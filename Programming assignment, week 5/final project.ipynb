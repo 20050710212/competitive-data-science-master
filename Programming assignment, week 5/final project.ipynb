{
 "cells": [
  {
   "cell_type": "markdown",
   "metadata": {},
   "source": [
    "# 1. data exploration\n",
    "## 1.1 overview\n",
    "### 1.1.1 import all libraries"
   ]
  },
  {
   "cell_type": "code",
   "execution_count": 2,
   "metadata": {},
   "outputs": [],
   "source": [
    "import numpy as np\n",
    "import pandas as pd\n",
    "import matplotlib.pyplot as plt\n",
    "import seaborn as sns\n",
    "import time\n",
    "import gc\n",
    "import pickle\n",
    "from itertools import product\n",
    "from sklearn.preprocessing import LabelEncoder\n",
    "\n",
    "pd.set_option('display.max_rows', 500)\n",
    "pd.set_option('display.max_columns', 100)\n",
    "\n",
    "#import sklearn.model_selection.KFold as KFold"
   ]
  },
  {
   "cell_type": "markdown",
   "metadata": {},
   "source": [
    "### 1.1.2 read all data"
   ]
  },
  {
   "cell_type": "code",
   "execution_count": 2,
   "metadata": {},
   "outputs": [],
   "source": [
    "sales_train = pd.read_csv('input/sales_train.csv.gz')\n",
    "shops = pd.read_csv('input/shops.csv')\n",
    "items = pd.read_csv('input/items.csv')\n",
    "categories = pd.read_csv('input/item_categories.csv')\n",
    "test = pd.read_csv('input/test.csv.gz').set_index('ID')"
   ]
  },
  {
   "cell_type": "markdown",
   "metadata": {},
   "source": [
    "### 1.1.3 check the sales_train. no missing values, no nan values, shape is (2935849, 6)"
   ]
  },
  {
   "cell_type": "code",
   "execution_count": 3,
   "metadata": {},
   "outputs": [
    {
     "name": "stdout",
     "output_type": "stream",
     "text": [
      "----------head---------\n",
      "         date  date_block_num  shop_id  item_id  item_price  item_cnt_day\n",
      "0  02.01.2013               0       59    22154      999.00           1.0\n",
      "1  03.01.2013               0       25     2552      899.00           1.0\n",
      "2  05.01.2013               0       25     2552      899.00          -1.0\n",
      "3  06.01.2013               0       25     2554     1709.05           1.0\n",
      "4  15.01.2013               0       25     2555     1099.00           1.0\n",
      "----------shape--------\n",
      "(2935849, 6)\n",
      "------information------\n",
      "<class 'pandas.core.frame.DataFrame'>\n",
      "RangeIndex: 2935849 entries, 0 to 2935848\n",
      "Data columns (total 6 columns):\n",
      "date              object\n",
      "date_block_num    int64\n",
      "shop_id           int64\n",
      "item_id           int64\n",
      "item_price        float64\n",
      "item_cnt_day      float64\n",
      "dtypes: float64(2), int64(3), object(1)\n",
      "memory usage: 134.4+ MB\n",
      "None\n",
      "--------data type------\n",
      "date               object\n",
      "date_block_num      int64\n",
      "shop_id             int64\n",
      "item_id             int64\n",
      "item_price        float64\n",
      "item_cnt_day      float64\n",
      "dtype: object\n",
      "-----missing value-----\n",
      "date              0\n",
      "date_block_num    0\n",
      "shop_id           0\n",
      "item_id           0\n",
      "item_price        0\n",
      "item_cnt_day      0\n",
      "dtype: int64\n",
      "--------nan value------\n",
      "date              0\n",
      "date_block_num    0\n",
      "shop_id           0\n",
      "item_id           0\n",
      "item_price        0\n",
      "item_cnt_day      0\n",
      "dtype: int64\n"
     ]
    }
   ],
   "source": [
    "print('----------head---------')\n",
    "print(sales_train.head(5))\n",
    "print('----------shape--------')\n",
    "print(sales_train.shape)\n",
    "print('------information------')\n",
    "print(sales_train.info())\n",
    "print('--------data type------')\n",
    "print(sales_train.dtypes)\n",
    "print('-----missing value-----')\n",
    "print(sales_train.isnull().sum())\n",
    "print('--------nan value------')\n",
    "print(sales_train.isna().sum())"
   ]
  },
  {
   "cell_type": "markdown",
   "metadata": {},
   "source": [
    "### 1.1.4 check if there are duplicates"
   ]
  },
  {
   "cell_type": "code",
   "execution_count": 4,
   "metadata": {},
   "outputs": [
    {
     "name": "stdout",
     "output_type": "stream",
     "text": [
      "duplicated lines in sales_train is 6\n"
     ]
    }
   ],
   "source": [
    "print(\"duplicated lines in sales_train is\", len(sales_train[sales_train.duplicated()]))"
   ]
  },
  {
   "cell_type": "markdown",
   "metadata": {},
   "source": [
    "### 1.1.5 downcasting"
   ]
  },
  {
   "cell_type": "code",
   "execution_count": 5,
   "metadata": {},
   "outputs": [],
   "source": [
    "def downcast_dtypes(df):\n",
    "    cols_float64 = [c for c in df if df[c].dtype == 'float64']\n",
    "    cols_int64_32 = [c for c in df if df[c].dtype in ['int64', 'int32']]\n",
    "    df[cols_float64] = df[cols_float64].astype(np.float32)\n",
    "    df[cols_int64_32] = df[cols_int64_32].astype(np.int16)\n",
    "    return df       "
   ]
  },
  {
   "cell_type": "code",
   "execution_count": 6,
   "metadata": {},
   "outputs": [],
   "source": [
    "sales_train = downcast_dtypes(sales_train)\n",
    "shops = downcast_dtypes(shops)\n",
    "items = downcast_dtypes(items)\n",
    "categories = downcast_dtypes(categories)\n",
    "test = downcast_dtypes(test)"
   ]
  },
  {
   "cell_type": "markdown",
   "metadata": {},
   "source": [
    "### 1.2 visualize data and remove outliers\n",
    "1. find the extreme item price and extreme item count per day"
   ]
  },
  {
   "cell_type": "code",
   "execution_count": 7,
   "metadata": {},
   "outputs": [
    {
     "data": {
      "text/plain": [
       "<matplotlib.axes._subplots.AxesSubplot at 0x295bf2049e8>"
      ]
     },
     "execution_count": 7,
     "metadata": {},
     "output_type": "execute_result"
    },
    {
     "data": {
      "image/png": "[encoded data removed]",
      "text/plain": [
       "<Figure size 720x288 with 1 Axes>"
      ]
     },
     "metadata": {},
     "output_type": "display_data"
    },
    {
     "data": {
      "image/png": "[encoded data removed]",
      "text/plain": [
       "<Figure size 720x288 with 1 Axes>"
      ]
     },
     "metadata": {},
     "output_type": "display_data"
    },
    {
     "data": {
      "image/png": "[encoded data removed]",
      "text/plain": [
       "<Figure size 720x288 with 1 Axes>"
      ]
     },
     "metadata": {},
     "output_type": "display_data"
    },
    {
     "data": {
      "image/png": "[encoded data removed]",
      "text/plain": [
       "<Figure size 720x288 with 1 Axes>"
      ]
     },
     "metadata": {},
     "output_type": "display_data"
    }
   ],
   "source": [
    "plt.figure(figsize=(10,4))\n",
    "plt.xlim(-100,3000)\n",
    "sns.boxplot(x = sales_train['item_cnt_day'])\n",
    "\n",
    "plt.figure(figsize=(10,4))\n",
    "plt.xlim(-10000,320000)\n",
    "sns.boxplot(x = sales_train['item_price'])\n",
    "\n",
    "sales_train = sales_train[sales_train['item_cnt_day'] <1001]\n",
    "sales_train = sales_train[sales_train['item_price'] < 300000]\n",
    "plt.figure(figsize=(10,4))\n",
    "plt.xlim(-100,3000)\n",
    "sns.boxplot(x = sales_train['item_cnt_day'])\n",
    "\n",
    "plt.figure(figsize=(10,4))\n",
    "plt.xlim(-10000,320000)\n",
    "sns.boxplot(x = sales_train['item_price'])"
   ]
  },
  {
   "cell_type": "markdown",
   "metadata": {},
   "source": [
    "2.there is a item with negative price, replace it with median\n",
    "data_block_num = 4,\n",
    "shop_id = 32,\n",
    "item_id = 2973,\n",
    "find the median price with such conditions"
   ]
  },
  {
   "cell_type": "code",
   "execution_count": 8,
   "metadata": {},
   "outputs": [
    {
     "name": "stdout",
     "output_type": "stream",
     "text": [
      "1874.0\n"
     ]
    }
   ],
   "source": [
    "median = sales_train[(sales_train['date_block_num'] == 4) & (sales_train['shop_id'] == 32)\\\n",
    "                     & (sales_train['item_id'] == 2973) & (sales_train['item_price']>0)].item_price.median()\n",
    "sales_train.loc[sales_train['item_price']<0,'item_price'] = median\n",
    "print(median)"
   ]
  },
  {
   "cell_type": "markdown",
   "metadata": {},
   "source": [
    "# 1.2 baseline prediction\n",
    "from coursera\n",
    "\" A good exercise is to reproduce previous_value_benchmark. As the name suggest - in this benchmark for the each shop/item pair our predictions are just monthly sales from the previous month, i.e. October 2015.\n",
    "\n",
    "The most important step at reproducing this score is correctly aggregating daily data and constructing monthly sales data frame. You need to get lagged values, fill NaNs with zeros and clip the values into [0,20] range. If you do it correctly, you'll get precisely 1.16777 on the public leaderboard.\n",
    "\n",
    "Generating features like this is a necessary basis for more complex models. Also, if you decide to fit some model, don't forget to clip the target into [0,20] range, it makes a big difference.\""
   ]
  },
  {
   "cell_type": "code",
   "execution_count": 9,
   "metadata": {},
   "outputs": [
    {
     "name": "stdout",
     "output_type": "stream",
     "text": [
      "   date_block_num  shop_id  item_id  item_cnt_month\n",
      "0               0        0       19             0.0\n",
      "1               0        0       27             0.0\n",
      "2               0        0       28             0.0\n",
      "3               0        0       29             0.0\n",
      "4               0        0       32             6.0\n"
     ]
    }
   ],
   "source": [
    "ts = time.time()\n",
    "matrix = []\n",
    "cols = ['date_block_num','shop_id','item_id']\n",
    "for i in range(34):\n",
    "    sales = sales_train[sales_train.date_block_num==i]\n",
    "    matrix.append(np.array(list(product([i], sales.shop_id.unique(), sales.item_id.unique())), dtype='int16'))\n",
    "    \n",
    "matrix = pd.DataFrame(np.vstack(matrix), columns=cols)\n",
    "matrix['date_block_num'] = matrix['date_block_num'].astype(np.int8)\n",
    "matrix['shop_id'] = matrix['shop_id'].astype(np.int8)\n",
    "matrix['item_id'] = matrix['item_id'].astype(np.int16)\n",
    "matrix.sort_values(cols,inplace=True)\n",
    "time.time() - ts\n",
    "\n",
    "sales_train['revenue'] = sales_train['item_price'] *  sales_train['item_cnt_day']\n",
    "\n",
    "groupby = sales_train.groupby(['item_id','shop_id','date_block_num']).agg({'item_cnt_day':'sum'})\n",
    "groupby.columns = ['item_cnt_month']\n",
    "groupby.reset_index(inplace=True)\n",
    "matrix = matrix.merge(groupby, on = ['item_id','shop_id','date_block_num'], how = 'left')\n",
    "matrix['item_cnt_month'] = matrix['item_cnt_month'].fillna(0).clip(0,20).astype(np.float16)\n",
    "matrix.head()\n",
    "\n",
    "test['date_block_num'] = 34\n",
    "test['date_block_num'] = test['date_block_num'].astype(np.int8)\n",
    "test['shop_id'] = test['shop_id'].astype(np.int8)\n",
    "test['item_id'] = test['item_id'].astype(np.int16)\n",
    "test.shape\n",
    "\n",
    "cols = ['date_block_num','shop_id','item_id']\n",
    "matrix = pd.concat([matrix, test], ignore_index=True, sort=False, keys=cols)\n",
    "matrix.fillna(0, inplace=True) # 34 month\n",
    "print(matrix.head())"
   ]
  },
  {
   "cell_type": "markdown",
   "metadata": {},
   "source": [
    "Simply put: Use October 2015 sales(number of items sold) as our predictions for sales of November 2015"
   ]
  },
  {
   "cell_type": "code",
   "execution_count": 10,
   "metadata": {},
   "outputs": [
    {
     "data": {
      "text/html": [
       "<div>\n",
       "<style scoped>\n",
       "    .dataframe tbody tr th:only-of-type {\n",
       "        vertical-align: middle;\n",
       "    }\n",
       "\n",
       "    .dataframe tbody tr th {\n",
       "        vertical-align: top;\n",
       "    }\n",
       "\n",
       "    .dataframe thead th {\n",
       "        text-align: right;\n",
       "    }\n",
       "</style>\n",
       "<table border=\"1\" class=\"dataframe\">\n",
       "  <thead>\n",
       "    <tr style=\"text-align: right;\">\n",
       "      <th></th>\n",
       "      <th>date</th>\n",
       "      <th>date_block_num</th>\n",
       "      <th>shop_id</th>\n",
       "      <th>item_id</th>\n",
       "      <th>item_price</th>\n",
       "      <th>item_cnt_day</th>\n",
       "      <th>revenue</th>\n",
       "    </tr>\n",
       "  </thead>\n",
       "  <tbody>\n",
       "    <tr>\n",
       "      <th>2882335</th>\n",
       "      <td>23.10.2015</td>\n",
       "      <td>33</td>\n",
       "      <td>45</td>\n",
       "      <td>13315</td>\n",
       "      <td>649.0</td>\n",
       "      <td>1.0</td>\n",
       "      <td>649.0</td>\n",
       "    </tr>\n",
       "    <tr>\n",
       "      <th>2882336</th>\n",
       "      <td>05.10.2015</td>\n",
       "      <td>33</td>\n",
       "      <td>45</td>\n",
       "      <td>13880</td>\n",
       "      <td>229.0</td>\n",
       "      <td>1.0</td>\n",
       "      <td>229.0</td>\n",
       "    </tr>\n",
       "    <tr>\n",
       "      <th>2882337</th>\n",
       "      <td>02.10.2015</td>\n",
       "      <td>33</td>\n",
       "      <td>45</td>\n",
       "      <td>13881</td>\n",
       "      <td>659.0</td>\n",
       "      <td>1.0</td>\n",
       "      <td>659.0</td>\n",
       "    </tr>\n",
       "    <tr>\n",
       "      <th>2882338</th>\n",
       "      <td>12.10.2015</td>\n",
       "      <td>33</td>\n",
       "      <td>45</td>\n",
       "      <td>13881</td>\n",
       "      <td>659.0</td>\n",
       "      <td>1.0</td>\n",
       "      <td>659.0</td>\n",
       "    </tr>\n",
       "    <tr>\n",
       "      <th>2882339</th>\n",
       "      <td>04.10.2015</td>\n",
       "      <td>33</td>\n",
       "      <td>45</td>\n",
       "      <td>13923</td>\n",
       "      <td>169.0</td>\n",
       "      <td>1.0</td>\n",
       "      <td>169.0</td>\n",
       "    </tr>\n",
       "  </tbody>\n",
       "</table>\n",
       "</div>"
      ],
      "text/plain": [
       "               date  date_block_num  shop_id  item_id  item_price  \\\n",
       "2882335  23.10.2015              33       45    13315       649.0   \n",
       "2882336  05.10.2015              33       45    13880       229.0   \n",
       "2882337  02.10.2015              33       45    13881       659.0   \n",
       "2882338  12.10.2015              33       45    13881       659.0   \n",
       "2882339  04.10.2015              33       45    13923       169.0   \n",
       "\n",
       "         item_cnt_day  revenue  \n",
       "2882335           1.0    649.0  \n",
       "2882336           1.0    229.0  \n",
       "2882337           1.0    659.0  \n",
       "2882338           1.0    659.0  \n",
       "2882339           1.0    169.0  "
      ]
     },
     "execution_count": 10,
     "metadata": {},
     "output_type": "execute_result"
    }
   ],
   "source": [
    "sales_train_subset = sales_train[sales_train['date_block_num'] == 33]\n",
    "sales_train_subset.head()"
   ]
  },
  {
   "cell_type": "code",
   "execution_count": 11,
   "metadata": {},
   "outputs": [
    {
     "data": {
      "text/html": [
       "<div>\n",
       "<style scoped>\n",
       "    .dataframe tbody tr th:only-of-type {\n",
       "        vertical-align: middle;\n",
       "    }\n",
       "\n",
       "    .dataframe tbody tr th {\n",
       "        vertical-align: top;\n",
       "    }\n",
       "\n",
       "    .dataframe thead th {\n",
       "        text-align: right;\n",
       "    }\n",
       "</style>\n",
       "<table border=\"1\" class=\"dataframe\">\n",
       "  <thead>\n",
       "    <tr style=\"text-align: right;\">\n",
       "      <th></th>\n",
       "      <th>shop_id</th>\n",
       "      <th>item_id</th>\n",
       "      <th>item_cnt_month</th>\n",
       "    </tr>\n",
       "  </thead>\n",
       "  <tbody>\n",
       "    <tr>\n",
       "      <th>0</th>\n",
       "      <td>2</td>\n",
       "      <td>31</td>\n",
       "      <td>1.0</td>\n",
       "    </tr>\n",
       "    <tr>\n",
       "      <th>1</th>\n",
       "      <td>2</td>\n",
       "      <td>486</td>\n",
       "      <td>3.0</td>\n",
       "    </tr>\n",
       "    <tr>\n",
       "      <th>2</th>\n",
       "      <td>2</td>\n",
       "      <td>787</td>\n",
       "      <td>1.0</td>\n",
       "    </tr>\n",
       "    <tr>\n",
       "      <th>3</th>\n",
       "      <td>2</td>\n",
       "      <td>794</td>\n",
       "      <td>1.0</td>\n",
       "    </tr>\n",
       "    <tr>\n",
       "      <th>4</th>\n",
       "      <td>2</td>\n",
       "      <td>968</td>\n",
       "      <td>1.0</td>\n",
       "    </tr>\n",
       "  </tbody>\n",
       "</table>\n",
       "</div>"
      ],
      "text/plain": [
       "   shop_id  item_id  item_cnt_month\n",
       "0        2       31             1.0\n",
       "1        2      486             3.0\n",
       "2        2      787             1.0\n",
       "3        2      794             1.0\n",
       "4        2      968             1.0"
      ]
     },
     "execution_count": 11,
     "metadata": {},
     "output_type": "execute_result"
    }
   ],
   "source": [
    "grouped = sales_train_subset[['shop_id','item_id','item_cnt_day']].groupby(['shop_id','item_id']).agg({'item_cnt_day':'sum'}).reset_index()\n",
    "grouped = grouped.rename(columns={'item_cnt_day' : 'item_cnt_month'})\n",
    "grouped.head()"
   ]
  },
  {
   "cell_type": "code",
   "execution_count": 12,
   "metadata": {},
   "outputs": [
    {
     "name": "stdout",
     "output_type": "stream",
     "text": [
      "   ID  shop_id  item_id  item_cnt_month\n",
      "0   0        5     5037             NaN\n",
      "1   1        5     5320             NaN\n",
      "2   2        5     5233             1.0\n",
      "3   3        5     5232             NaN\n",
      "4   4        5     5268             NaN\n",
      "   ID  shop_id  item_id  item_cnt_month\n",
      "0   0        5     5037             0.0\n",
      "1   1        5     5320             0.0\n",
      "2   2        5     5233             1.0\n",
      "3   3        5     5232             0.0\n",
      "4   4        5     5268             0.0\n"
     ]
    }
   ],
   "source": [
    "test = pd.read_csv('../readonly/final_project_data/test.csv.gz')\n",
    "test = pd.merge(test,grouped, on = ['shop_id','item_id'], how = 'left')\n",
    "print(test.head())\n",
    "#grouped.head()\n",
    "test['item_cnt_month'] = test['item_cnt_month'].fillna(0).clip(0,20)\n",
    "print(test.head())\n",
    "test = test[['ID','item_cnt_month']]\n",
    "submission = test.set_index('ID')\n",
    "submission.to_csv('submission_baseline2.csv')"
   ]
  },
  {
   "cell_type": "markdown",
   "metadata": {},
   "source": [
    "# 2. feature engineering\n",
    "## 2.1 transform the category features\n",
    "I want to modify the category names a little. After transformation, there are 15 types and various subtypes. Since there is not so much connections between neighbouring types, I choose to do one-hot encoding."
   ]
  },
  {
   "cell_type": "code",
   "execution_count": 13,
   "metadata": {},
   "outputs": [],
   "source": [
    "encoding_methods = ['label_encoding','onehot_encoding']\n",
    "encoding_methods_index = 0"
   ]
  },
  {
   "cell_type": "code",
   "execution_count": 14,
   "metadata": {},
   "outputs": [],
   "source": [
    "categories = pd.read_csv('../readonly/final_project_data/item_categories.csv')\n",
    "lines1 = [26,27,28,29,30,31]\n",
    "lines2 = [81,82]\n",
    "for index in lines1:\n",
    "    category_name = categories.loc[index,'item_category_name']\n",
    "#    print(category_name)\n",
    "    category_name = category_name.replace('Игры','Игры -')\n",
    "#    print(category_name)\n",
    "    categories.loc[index,'item_category_name'] = category_name\n",
    "for index in lines2:\n",
    "    category_name = categories.loc[index,'item_category_name']\n",
    "#    print(category_name)\n",
    "    category_name = category_name.replace('Чистые','Чистые -')\n",
    "#    print(category_name)\n",
    "    categories.loc[index,'item_category_name'] = category_name\n",
    "category_name = categories.loc[32,'item_category_name']\n",
    "#print(category_name)\n",
    "category_name = category_name.replace('Карты оплаты','Карты оплаты -')\n",
    "#print(category_name)\n",
    "categories.loc[32,'item_category_name'] = category_name"
   ]
  },
  {
   "cell_type": "code",
   "execution_count": 15,
   "metadata": {},
   "outputs": [
    {
     "data": {
      "text/html": [
       "<div>\n",
       "<style scoped>\n",
       "    .dataframe tbody tr th:only-of-type {\n",
       "        vertical-align: middle;\n",
       "    }\n",
       "\n",
       "    .dataframe tbody tr th {\n",
       "        vertical-align: top;\n",
       "    }\n",
       "\n",
       "    .dataframe thead th {\n",
       "        text-align: right;\n",
       "    }\n",
       "</style>\n",
       "<table border=\"1\" class=\"dataframe\">\n",
       "  <thead>\n",
       "    <tr style=\"text-align: right;\">\n",
       "      <th></th>\n",
       "      <th>item_category_name</th>\n",
       "      <th>item_category_id</th>\n",
       "    </tr>\n",
       "  </thead>\n",
       "  <tbody>\n",
       "    <tr>\n",
       "      <th>0</th>\n",
       "      <td>PC - Гарнитуры/Наушники</td>\n",
       "      <td>0</td>\n",
       "    </tr>\n",
       "    <tr>\n",
       "      <th>1</th>\n",
       "      <td>Аксессуары - PS2</td>\n",
       "      <td>1</td>\n",
       "    </tr>\n",
       "    <tr>\n",
       "      <th>2</th>\n",
       "      <td>Аксессуары - PS3</td>\n",
       "      <td>2</td>\n",
       "    </tr>\n",
       "    <tr>\n",
       "      <th>3</th>\n",
       "      <td>Аксессуары - PS4</td>\n",
       "      <td>3</td>\n",
       "    </tr>\n",
       "    <tr>\n",
       "      <th>4</th>\n",
       "      <td>Аксессуары - PSP</td>\n",
       "      <td>4</td>\n",
       "    </tr>\n",
       "  </tbody>\n",
       "</table>\n",
       "</div>"
      ],
      "text/plain": [
       "        item_category_name  item_category_id\n",
       "0  PC - Гарнитуры/Наушники                 0\n",
       "1         Аксессуары - PS2                 1\n",
       "2         Аксессуары - PS3                 2\n",
       "3         Аксессуары - PS4                 3\n",
       "4         Аксессуары - PSP                 4"
      ]
     },
     "execution_count": 15,
     "metadata": {},
     "output_type": "execute_result"
    }
   ],
   "source": [
    "categories.head()"
   ]
  },
  {
   "cell_type": "code",
   "execution_count": 16,
   "metadata": {},
   "outputs": [
    {
     "data": {
      "text/html": [
       "<div>\n",
       "<style scoped>\n",
       "    .dataframe tbody tr th:only-of-type {\n",
       "        vertical-align: middle;\n",
       "    }\n",
       "\n",
       "    .dataframe tbody tr th {\n",
       "        vertical-align: top;\n",
       "    }\n",
       "\n",
       "    .dataframe thead th {\n",
       "        text-align: right;\n",
       "    }\n",
       "</style>\n",
       "<table border=\"1\" class=\"dataframe\">\n",
       "  <thead>\n",
       "    <tr style=\"text-align: right;\">\n",
       "      <th></th>\n",
       "      <th>item_category_id</th>\n",
       "      <th>type</th>\n",
       "    </tr>\n",
       "  </thead>\n",
       "  <tbody>\n",
       "    <tr>\n",
       "      <th>0</th>\n",
       "      <td>0</td>\n",
       "      <td>PC</td>\n",
       "    </tr>\n",
       "    <tr>\n",
       "      <th>1</th>\n",
       "      <td>1</td>\n",
       "      <td>Аксессуары</td>\n",
       "    </tr>\n",
       "    <tr>\n",
       "      <th>2</th>\n",
       "      <td>2</td>\n",
       "      <td>Аксессуары</td>\n",
       "    </tr>\n",
       "    <tr>\n",
       "      <th>3</th>\n",
       "      <td>3</td>\n",
       "      <td>Аксессуары</td>\n",
       "    </tr>\n",
       "    <tr>\n",
       "      <th>4</th>\n",
       "      <td>4</td>\n",
       "      <td>Аксессуары</td>\n",
       "    </tr>\n",
       "  </tbody>\n",
       "</table>\n",
       "</div>"
      ],
      "text/plain": [
       "   item_category_id        type\n",
       "0                 0          PC\n",
       "1                 1  Аксессуары\n",
       "2                 2  Аксессуары\n",
       "3                 3  Аксессуары\n",
       "4                 4  Аксессуары"
      ]
     },
     "execution_count": 16,
     "metadata": {},
     "output_type": "execute_result"
    }
   ],
   "source": [
    "categories['split'] = categories['item_category_name'].str.split('-')\n",
    "categories['type'] = categories['split'].map(lambda x:x[0].strip())\n",
    "#categories['subtype'] = categories['split'].map(lambda x:x[1].strip() if len(x)>1 else x[0].strip())\n",
    "categories = categories[['item_category_id','type']]\n",
    "categories.head()"
   ]
  },
  {
   "cell_type": "code",
   "execution_count": 17,
   "metadata": {},
   "outputs": [
    {
     "data": {
      "text/html": [
       "<div>\n",
       "<style scoped>\n",
       "    .dataframe tbody tr th:only-of-type {\n",
       "        vertical-align: middle;\n",
       "    }\n",
       "\n",
       "    .dataframe tbody tr th {\n",
       "        vertical-align: top;\n",
       "    }\n",
       "\n",
       "    .dataframe thead th {\n",
       "        text-align: right;\n",
       "    }\n",
       "</style>\n",
       "<table border=\"1\" class=\"dataframe\">\n",
       "  <thead>\n",
       "    <tr style=\"text-align: right;\">\n",
       "      <th></th>\n",
       "      <th>item_category_id</th>\n",
       "      <th>type</th>\n",
       "      <th>type_code</th>\n",
       "    </tr>\n",
       "  </thead>\n",
       "  <tbody>\n",
       "    <tr>\n",
       "      <th>0</th>\n",
       "      <td>0</td>\n",
       "      <td>PC</td>\n",
       "      <td>0</td>\n",
       "    </tr>\n",
       "    <tr>\n",
       "      <th>1</th>\n",
       "      <td>1</td>\n",
       "      <td>Аксессуары</td>\n",
       "      <td>1</td>\n",
       "    </tr>\n",
       "    <tr>\n",
       "      <th>2</th>\n",
       "      <td>2</td>\n",
       "      <td>Аксессуары</td>\n",
       "      <td>1</td>\n",
       "    </tr>\n",
       "    <tr>\n",
       "      <th>3</th>\n",
       "      <td>3</td>\n",
       "      <td>Аксессуары</td>\n",
       "      <td>1</td>\n",
       "    </tr>\n",
       "    <tr>\n",
       "      <th>4</th>\n",
       "      <td>4</td>\n",
       "      <td>Аксессуары</td>\n",
       "      <td>1</td>\n",
       "    </tr>\n",
       "  </tbody>\n",
       "</table>\n",
       "</div>"
      ],
      "text/plain": [
       "   item_category_id        type  type_code\n",
       "0                 0          PC          0\n",
       "1                 1  Аксессуары          1\n",
       "2                 2  Аксессуары          1\n",
       "3                 3  Аксессуары          1\n",
       "4                 4  Аксессуары          1"
      ]
     },
     "execution_count": 17,
     "metadata": {},
     "output_type": "execute_result"
    }
   ],
   "source": [
    "if(encoding_methods[encoding_methods_index] == 'label_encoding'):\n",
    "    categories['type_code'] = LabelEncoder().fit_transform(categories['type'])\n",
    "    #categories['subtype'] = LabelEncoder().fit_transform(categories['subtype'])\n",
    "else:\n",
    "    categories=pd.get_dummies(categories)\n",
    "categories.head()"
   ]
  },
  {
   "cell_type": "markdown",
   "metadata": {},
   "source": [
    "## 2.2 add city information in shops\n",
    "there are 60 shops located in 31 cities, we can make use of such information by adding city_code features."
   ]
  },
  {
   "cell_type": "code",
   "execution_count": 18,
   "metadata": {},
   "outputs": [],
   "source": [
    "shops.loc[shops.shop_name == 'Сергиев Посад ТЦ \"7Я\"', 'shop_name'] = 'СергиевПосад ТЦ \"7Я\"'\n",
    "shops['city'] = shops['shop_name'].str.split(' ').map(lambda x: x[0])\n",
    "shops.loc[shops.city == '!Якутск', 'city'] = 'Якутск'\n",
    "shops['city_code'] = LabelEncoder().fit_transform(shops['city'])\n",
    "shops = shops[['shop_id','city_code']]"
   ]
  },
  {
   "cell_type": "markdown",
   "metadata": {},
   "source": [
    "## 2.3 accumulate the monthly sales\n",
    "Test set is a product of some shops and some items within 34 month. There are 5100 items * 42 shops = 214200 pairs. 363 items are new compared to the train. Hence, for the most of the items in the test set target value should be zero. In the other hand train set contains only pairs which were sold or returned in the past. Tha main idea is to calculate monthly sales and extend it with zero sales for each unique pair within the month. This way train data will be similar to test data."
   ]
  },
  {
   "cell_type": "code",
   "execution_count": 19,
   "metadata": {},
   "outputs": [
    {
     "data": {
      "text/html": [
       "<div>\n",
       "<style scoped>\n",
       "    .dataframe tbody tr th:only-of-type {\n",
       "        vertical-align: middle;\n",
       "    }\n",
       "\n",
       "    .dataframe tbody tr th {\n",
       "        vertical-align: top;\n",
       "    }\n",
       "\n",
       "    .dataframe thead th {\n",
       "        text-align: right;\n",
       "    }\n",
       "</style>\n",
       "<table border=\"1\" class=\"dataframe\">\n",
       "  <thead>\n",
       "    <tr style=\"text-align: right;\">\n",
       "      <th></th>\n",
       "      <th>ID</th>\n",
       "      <th>item_cnt_month</th>\n",
       "    </tr>\n",
       "  </thead>\n",
       "  <tbody>\n",
       "    <tr>\n",
       "      <th>0</th>\n",
       "      <td>0</td>\n",
       "      <td>0.0</td>\n",
       "    </tr>\n",
       "    <tr>\n",
       "      <th>1</th>\n",
       "      <td>1</td>\n",
       "      <td>0.0</td>\n",
       "    </tr>\n",
       "    <tr>\n",
       "      <th>2</th>\n",
       "      <td>2</td>\n",
       "      <td>1.0</td>\n",
       "    </tr>\n",
       "    <tr>\n",
       "      <th>3</th>\n",
       "      <td>3</td>\n",
       "      <td>0.0</td>\n",
       "    </tr>\n",
       "    <tr>\n",
       "      <th>4</th>\n",
       "      <td>4</td>\n",
       "      <td>0.0</td>\n",
       "    </tr>\n",
       "  </tbody>\n",
       "</table>\n",
       "</div>"
      ],
      "text/plain": [
       "   ID  item_cnt_month\n",
       "0   0             0.0\n",
       "1   1             0.0\n",
       "2   2             1.0\n",
       "3   3             0.0\n",
       "4   4             0.0"
      ]
     },
     "execution_count": 19,
     "metadata": {},
     "output_type": "execute_result"
    }
   ],
   "source": [
    "test.head()"
   ]
  },
  {
   "cell_type": "code",
   "execution_count": 20,
   "metadata": {},
   "outputs": [
    {
     "data": {
      "text/plain": [
       "(363, 5100, 214200)"
      ]
     },
     "execution_count": 20,
     "metadata": {},
     "output_type": "execute_result"
    }
   ],
   "source": [
    "test = pd.read_csv('../readonly/final_project_data/test.csv.gz')\n",
    "len(list(set(test.item_id) - set(test.item_id).intersection(set(sales_train.item_id)))), len(list(set(test.item_id))), len(test)"
   ]
  },
  {
   "cell_type": "code",
   "execution_count": 21,
   "metadata": {},
   "outputs": [
    {
     "name": "stdout",
     "output_type": "stream",
     "text": [
      "   date_block_num  shop_id  item_id  item_cnt_month\n",
      "0               0        0       19             0.0\n",
      "1               0        0       27             0.0\n",
      "2               0        0       28             0.0\n",
      "3               0        0       29             0.0\n",
      "4               0        0       32             6.0\n"
     ]
    }
   ],
   "source": [
    "ts = time.time()\n",
    "matrix = []\n",
    "cols = ['date_block_num','shop_id','item_id']\n",
    "for i in range(34):\n",
    "    sales = sales_train[sales_train.date_block_num==i]\n",
    "    matrix.append(np.array(list(product([i], sales.shop_id.unique(), sales.item_id.unique())), dtype='int16'))\n",
    "    \n",
    "matrix = pd.DataFrame(np.vstack(matrix), columns=cols)\n",
    "matrix['date_block_num'] = matrix['date_block_num'].astype(np.int8)\n",
    "matrix['shop_id'] = matrix['shop_id'].astype(np.int8)\n",
    "matrix['item_id'] = matrix['item_id'].astype(np.int16)\n",
    "matrix.sort_values(cols,inplace=True)\n",
    "time.time() - ts\n",
    "\n",
    "sales_train['revenue'] = sales_train['item_price'] *  sales_train['item_cnt_day']\n",
    "\n",
    "groupby = sales_train.groupby(['item_id','shop_id','date_block_num']).agg({'item_cnt_day':'sum'})\n",
    "groupby.columns = ['item_cnt_month']\n",
    "groupby.reset_index(inplace=True)\n",
    "matrix = matrix.merge(groupby, on = ['item_id','shop_id','date_block_num'], how = 'left')\n",
    "matrix['item_cnt_month'] = matrix['item_cnt_month'].fillna(0).clip(0,20).astype(np.float16)\n",
    "matrix.head()\n",
    "\n",
    "test['date_block_num'] = 34\n",
    "test['date_block_num'] = test['date_block_num'].astype(np.int8)\n",
    "test['shop_id'] = test['shop_id'].astype(np.int8)\n",
    "test['item_id'] = test['item_id'].astype(np.int16)\n",
    "test.shape\n",
    "\n",
    "cols = ['date_block_num','shop_id','item_id']\n",
    "matrix = pd.concat([matrix, test[['item_id','shop_id','date_block_num']]], ignore_index=True, sort=False, keys=cols)\n",
    "matrix.fillna(0, inplace=True) # 34 month\n",
    "print(matrix.head())"
   ]
  },
  {
   "cell_type": "markdown",
   "metadata": {},
   "source": [
    "make sure there is no NAN in matrix before the next step"
   ]
  },
  {
   "cell_type": "code",
   "execution_count": 22,
   "metadata": {},
   "outputs": [
    {
     "name": "stdout",
     "output_type": "stream",
     "text": [
      "0\n",
      "0\n"
     ]
    }
   ],
   "source": [
    "print(matrix['item_cnt_month'].isna().sum())\n",
    "print(matrix['item_cnt_month'].isnull().sum())"
   ]
  },
  {
   "cell_type": "markdown",
   "metadata": {},
   "source": [
    "## 2.4 merge related information into matrix"
   ]
  },
  {
   "cell_type": "code",
   "execution_count": 23,
   "metadata": {},
   "outputs": [
    {
     "data": {
      "text/plain": [
       "4.560785531997681"
      ]
     },
     "execution_count": 23,
     "metadata": {},
     "output_type": "execute_result"
    }
   ],
   "source": [
    "ts = time.time()\n",
    "matrix = matrix.merge(items[['item_id','item_category_id']], on = ['item_id'], how = 'left')\n",
    "matrix = matrix.merge(categories[['item_category_id','type_code']], on = ['item_category_id'], how = 'left')\n",
    "matrix = matrix.merge(shops, on = ['shop_id'], how = 'left')\n",
    "matrix['city_code'] = matrix['city_code'].astype(np.int8)\n",
    "matrix['item_category_id'] = matrix['item_category_id'].astype(np.int8)\n",
    "matrix['type_code'] = matrix['type_code'].astype(np.int8)\n",
    "time.time() - ts"
   ]
  },
  {
   "cell_type": "code",
   "execution_count": 24,
   "metadata": {},
   "outputs": [
    {
     "data": {
      "text/html": [
       "<div>\n",
       "<style scoped>\n",
       "    .dataframe tbody tr th:only-of-type {\n",
       "        vertical-align: middle;\n",
       "    }\n",
       "\n",
       "    .dataframe tbody tr th {\n",
       "        vertical-align: top;\n",
       "    }\n",
       "\n",
       "    .dataframe thead th {\n",
       "        text-align: right;\n",
       "    }\n",
       "</style>\n",
       "<table border=\"1\" class=\"dataframe\">\n",
       "  <thead>\n",
       "    <tr style=\"text-align: right;\">\n",
       "      <th></th>\n",
       "      <th>date_block_num</th>\n",
       "      <th>shop_id</th>\n",
       "      <th>item_id</th>\n",
       "      <th>item_cnt_month</th>\n",
       "      <th>item_category_id</th>\n",
       "      <th>type_code</th>\n",
       "      <th>city_code</th>\n",
       "    </tr>\n",
       "  </thead>\n",
       "  <tbody>\n",
       "    <tr>\n",
       "      <th>0</th>\n",
       "      <td>0</td>\n",
       "      <td>0</td>\n",
       "      <td>19</td>\n",
       "      <td>0.0</td>\n",
       "      <td>40</td>\n",
       "      <td>7</td>\n",
       "      <td>29</td>\n",
       "    </tr>\n",
       "    <tr>\n",
       "      <th>1</th>\n",
       "      <td>0</td>\n",
       "      <td>0</td>\n",
       "      <td>27</td>\n",
       "      <td>0.0</td>\n",
       "      <td>19</td>\n",
       "      <td>5</td>\n",
       "      <td>29</td>\n",
       "    </tr>\n",
       "    <tr>\n",
       "      <th>2</th>\n",
       "      <td>0</td>\n",
       "      <td>0</td>\n",
       "      <td>28</td>\n",
       "      <td>0.0</td>\n",
       "      <td>30</td>\n",
       "      <td>5</td>\n",
       "      <td>29</td>\n",
       "    </tr>\n",
       "    <tr>\n",
       "      <th>3</th>\n",
       "      <td>0</td>\n",
       "      <td>0</td>\n",
       "      <td>29</td>\n",
       "      <td>0.0</td>\n",
       "      <td>23</td>\n",
       "      <td>5</td>\n",
       "      <td>29</td>\n",
       "    </tr>\n",
       "    <tr>\n",
       "      <th>4</th>\n",
       "      <td>0</td>\n",
       "      <td>0</td>\n",
       "      <td>32</td>\n",
       "      <td>6.0</td>\n",
       "      <td>40</td>\n",
       "      <td>7</td>\n",
       "      <td>29</td>\n",
       "    </tr>\n",
       "  </tbody>\n",
       "</table>\n",
       "</div>"
      ],
      "text/plain": [
       "   date_block_num  shop_id  item_id  item_cnt_month  item_category_id  \\\n",
       "0               0        0       19             0.0                40   \n",
       "1               0        0       27             0.0                19   \n",
       "2               0        0       28             0.0                30   \n",
       "3               0        0       29             0.0                23   \n",
       "4               0        0       32             6.0                40   \n",
       "\n",
       "   type_code  city_code  \n",
       "0          7         29  \n",
       "1          5         29  \n",
       "2          5         29  \n",
       "3          5         29  \n",
       "4          7         29  "
      ]
     },
     "execution_count": 24,
     "metadata": {},
     "output_type": "execute_result"
    }
   ],
   "source": [
    "matrix.head()\n",
    "#test.head()\n",
    "#shops.head()"
   ]
  },
  {
   "cell_type": "markdown",
   "metadata": {},
   "source": [
    "## 2.5 lag operation"
   ]
  },
  {
   "cell_type": "code",
   "execution_count": 25,
   "metadata": {},
   "outputs": [],
   "source": [
    "def lag_feature(df, lags, col):\n",
    "    tmp = df[['date_block_num','shop_id','item_id',col]]\n",
    "    for i in lags:\n",
    "        shifted = tmp.copy()\n",
    "        shifted.columns = ['date_block_num','shop_id','item_id', col+'_lag_'+str(i)]\n",
    "        shifted['date_block_num'] += i\n",
    "        df = pd.merge(df, shifted, on=['date_block_num','shop_id','item_id'], how='left')\n",
    "    return df"
   ]
  },
  {
   "cell_type": "markdown",
   "metadata": {},
   "source": [
    "### 2.5.1 lag features for monthly sale "
   ]
  },
  {
   "cell_type": "code",
   "execution_count": 26,
   "metadata": {},
   "outputs": [
    {
     "data": {
      "text/plain": [
       "30.34631371498108"
      ]
     },
     "execution_count": 26,
     "metadata": {},
     "output_type": "execute_result"
    }
   ],
   "source": [
    "ts = time.time()\n",
    "matrix = lag_feature(matrix, [1,2,3,6,12], 'item_cnt_month')\n",
    "time.time() - ts"
   ]
  },
  {
   "cell_type": "code",
   "execution_count": 27,
   "metadata": {},
   "outputs": [],
   "source": [
    "#matrix.tail()\n",
    "#print(matrix.loc[(matrix['date_block_num'] == 0)&(matrix['shop_id'] == 0)].count())\n",
    "#print(matrix.loc[matrix['date_block_num'] == 1,'item_cnt_month_lag_1'].head())\n",
    "#print(matrix.iloc[365175])"
   ]
  },
  {
   "cell_type": "markdown",
   "metadata": {},
   "source": [
    "### 2.5.2 mean value of monthly sales and its lag features"
   ]
  },
  {
   "cell_type": "code",
   "execution_count": 28,
   "metadata": {},
   "outputs": [
    {
     "data": {
      "text/plain": [
       "36.87462115287781"
      ]
     },
     "execution_count": 28,
     "metadata": {},
     "output_type": "execute_result"
    }
   ],
   "source": [
    "ts = time.time()\n",
    "group = matrix.groupby(['date_block_num']).agg({'item_cnt_month': ['mean']})\n",
    "group.columns = [ 'date_avg_item_cnt' ]\n",
    "group.reset_index(inplace=True)\n",
    "\n",
    "matrix = pd.merge(matrix, group, on=['date_block_num'], how='left')\n",
    "matrix['date_avg_item_cnt'] = matrix['date_avg_item_cnt'].astype(np.float16)\n",
    "matrix = lag_feature(matrix, [1,2,3,6,12], 'date_avg_item_cnt')\n",
    "matrix.drop(['date_avg_item_cnt'], axis=1, inplace=True)\n",
    "time.time() - ts"
   ]
  },
  {
   "cell_type": "code",
   "execution_count": 29,
   "metadata": {},
   "outputs": [
    {
     "name": "stdout",
     "output_type": "stream",
     "text": [
      "<class 'pandas.core.frame.DataFrame'>\n",
      "Int64Index: 11128004 entries, 0 to 11128003\n",
      "Data columns (total 17 columns):\n",
      "date_block_num              int8\n",
      "shop_id                     int8\n",
      "item_id                     int16\n",
      "item_cnt_month              float16\n",
      "item_category_id            int8\n",
      "type_code                   int8\n",
      "city_code                   int8\n",
      "item_cnt_month_lag_1        float16\n",
      "item_cnt_month_lag_2        float16\n",
      "item_cnt_month_lag_3        float16\n",
      "item_cnt_month_lag_6        float16\n",
      "item_cnt_month_lag_12       float16\n",
      "date_avg_item_cnt_lag_1     float16\n",
      "date_avg_item_cnt_lag_2     float16\n",
      "date_avg_item_cnt_lag_3     float16\n",
      "date_avg_item_cnt_lag_6     float16\n",
      "date_avg_item_cnt_lag_12    float16\n",
      "dtypes: float16(11), int16(1), int8(5)\n",
      "memory usage: 392.7 MB\n"
     ]
    }
   ],
   "source": [
    "matrix.info()"
   ]
  },
  {
   "cell_type": "markdown",
   "metadata": {},
   "source": [
    "### 2.5.3 mean value of monthly sales(items) and its lag features"
   ]
  },
  {
   "cell_type": "code",
   "execution_count": 30,
   "metadata": {},
   "outputs": [
    {
     "data": {
      "text/plain": [
       "39.66010785102844"
      ]
     },
     "execution_count": 30,
     "metadata": {},
     "output_type": "execute_result"
    }
   ],
   "source": [
    "ts = time.time()\n",
    "group = matrix.groupby(['date_block_num', 'item_id']).agg({'item_cnt_month': ['mean']})\n",
    "group.columns = [ 'date_item_avg_item_cnt' ]\n",
    "group.reset_index(inplace=True)\n",
    "\n",
    "matrix = pd.merge(matrix, group, on=['date_block_num','item_id'], how='left')\n",
    "matrix['date_item_avg_item_cnt'] = matrix['date_item_avg_item_cnt'].astype(np.float16)\n",
    "matrix = lag_feature(matrix, [1,2,3,6,12], 'date_item_avg_item_cnt')\n",
    "matrix.drop(['date_item_avg_item_cnt'], axis=1, inplace=True)\n",
    "time.time() - ts"
   ]
  },
  {
   "cell_type": "code",
   "execution_count": 31,
   "metadata": {},
   "outputs": [
    {
     "name": "stdout",
     "output_type": "stream",
     "text": [
      "<class 'pandas.core.frame.DataFrame'>\n",
      "Int64Index: 11128004 entries, 0 to 11128003\n",
      "Data columns (total 22 columns):\n",
      "date_block_num                   int8\n",
      "shop_id                          int8\n",
      "item_id                          int16\n",
      "item_cnt_month                   float16\n",
      "item_category_id                 int8\n",
      "type_code                        int8\n",
      "city_code                        int8\n",
      "item_cnt_month_lag_1             float16\n",
      "item_cnt_month_lag_2             float16\n",
      "item_cnt_month_lag_3             float16\n",
      "item_cnt_month_lag_6             float16\n",
      "item_cnt_month_lag_12            float16\n",
      "date_avg_item_cnt_lag_1          float16\n",
      "date_avg_item_cnt_lag_2          float16\n",
      "date_avg_item_cnt_lag_3          float16\n",
      "date_avg_item_cnt_lag_6          float16\n",
      "date_avg_item_cnt_lag_12         float16\n",
      "date_item_avg_item_cnt_lag_1     float16\n",
      "date_item_avg_item_cnt_lag_2     float16\n",
      "date_item_avg_item_cnt_lag_3     float16\n",
      "date_item_avg_item_cnt_lag_6     float16\n",
      "date_item_avg_item_cnt_lag_12    float16\n",
      "dtypes: float16(16), int16(1), int8(5)\n",
      "memory usage: 498.8 MB\n"
     ]
    }
   ],
   "source": [
    "matrix.info()"
   ]
  },
  {
   "cell_type": "markdown",
   "metadata": {},
   "source": [
    "### 2.5.4 mean value of monthly sales(shop) and its lag features"
   ]
  },
  {
   "cell_type": "code",
   "execution_count": 32,
   "metadata": {},
   "outputs": [
    {
     "data": {
      "text/plain": [
       "38.822147369384766"
      ]
     },
     "execution_count": 32,
     "metadata": {},
     "output_type": "execute_result"
    }
   ],
   "source": [
    "ts = time.time()\n",
    "group = matrix.groupby(['date_block_num', 'shop_id']).agg({'item_cnt_month': ['mean']})\n",
    "group.columns = [ 'date_shop_avg_item_cnt' ]\n",
    "group.reset_index(inplace=True)\n",
    "\n",
    "matrix = pd.merge(matrix, group, on=['date_block_num','shop_id'], how='left')\n",
    "matrix['date_shop_avg_item_cnt'] = matrix['date_shop_avg_item_cnt'].astype(np.float16)\n",
    "matrix = lag_feature(matrix, [1,2,3,6,12], 'date_shop_avg_item_cnt')\n",
    "matrix.drop(['date_shop_avg_item_cnt'], axis=1, inplace=True)\n",
    "time.time() - ts"
   ]
  },
  {
   "cell_type": "code",
   "execution_count": 33,
   "metadata": {},
   "outputs": [
    {
     "name": "stdout",
     "output_type": "stream",
     "text": [
      "<class 'pandas.core.frame.DataFrame'>\n",
      "Int64Index: 11128004 entries, 0 to 11128003\n",
      "Data columns (total 27 columns):\n",
      "date_block_num                   int8\n",
      "shop_id                          int8\n",
      "item_id                          int16\n",
      "item_cnt_month                   float16\n",
      "item_category_id                 int8\n",
      "type_code                        int8\n",
      "city_code                        int8\n",
      "item_cnt_month_lag_1             float16\n",
      "item_cnt_month_lag_2             float16\n",
      "item_cnt_month_lag_3             float16\n",
      "item_cnt_month_lag_6             float16\n",
      "item_cnt_month_lag_12            float16\n",
      "date_avg_item_cnt_lag_1          float16\n",
      "date_avg_item_cnt_lag_2          float16\n",
      "date_avg_item_cnt_lag_3          float16\n",
      "date_avg_item_cnt_lag_6          float16\n",
      "date_avg_item_cnt_lag_12         float16\n",
      "date_item_avg_item_cnt_lag_1     float16\n",
      "date_item_avg_item_cnt_lag_2     float16\n",
      "date_item_avg_item_cnt_lag_3     float16\n",
      "date_item_avg_item_cnt_lag_6     float16\n",
      "date_item_avg_item_cnt_lag_12    float16\n",
      "date_shop_avg_item_cnt_lag_1     float16\n",
      "date_shop_avg_item_cnt_lag_2     float16\n",
      "date_shop_avg_item_cnt_lag_3     float16\n",
      "date_shop_avg_item_cnt_lag_6     float16\n",
      "date_shop_avg_item_cnt_lag_12    float16\n",
      "dtypes: float16(21), int16(1), int8(5)\n",
      "memory usage: 604.9 MB\n"
     ]
    }
   ],
   "source": [
    "matrix.info()"
   ]
  },
  {
   "cell_type": "markdown",
   "metadata": {},
   "source": [
    "### 2.5.5 mean value of monthly sales(cat) and its lag features"
   ]
  },
  {
   "cell_type": "code",
   "execution_count": 34,
   "metadata": {},
   "outputs": [
    {
     "data": {
      "text/plain": [
       "41.57666826248169"
      ]
     },
     "execution_count": 34,
     "metadata": {},
     "output_type": "execute_result"
    }
   ],
   "source": [
    "ts = time.time()\n",
    "group = matrix.groupby(['date_block_num', 'item_category_id']).agg({'item_cnt_month': ['mean']})\n",
    "group.columns = [ 'date_cat_avg_item_cnt' ]\n",
    "group.reset_index(inplace=True)\n",
    "\n",
    "matrix = pd.merge(matrix, group, on=['date_block_num','item_category_id'], how='left')\n",
    "matrix['date_cat_avg_item_cnt'] = matrix['date_cat_avg_item_cnt'].astype(np.float16)\n",
    "matrix = lag_feature(matrix, [1,2,3,6,12], 'date_cat_avg_item_cnt')\n",
    "matrix.drop(['date_cat_avg_item_cnt'], axis=1, inplace=True)\n",
    "time.time() - ts"
   ]
  },
  {
   "cell_type": "code",
   "execution_count": 35,
   "metadata": {},
   "outputs": [
    {
     "name": "stdout",
     "output_type": "stream",
     "text": [
      "<class 'pandas.core.frame.DataFrame'>\n",
      "Int64Index: 11128004 entries, 0 to 11128003\n",
      "Data columns (total 32 columns):\n",
      "date_block_num                   int8\n",
      "shop_id                          int8\n",
      "item_id                          int16\n",
      "item_cnt_month                   float16\n",
      "item_category_id                 int8\n",
      "type_code                        int8\n",
      "city_code                        int8\n",
      "item_cnt_month_lag_1             float16\n",
      "item_cnt_month_lag_2             float16\n",
      "item_cnt_month_lag_3             float16\n",
      "item_cnt_month_lag_6             float16\n",
      "item_cnt_month_lag_12            float16\n",
      "date_avg_item_cnt_lag_1          float16\n",
      "date_avg_item_cnt_lag_2          float16\n",
      "date_avg_item_cnt_lag_3          float16\n",
      "date_avg_item_cnt_lag_6          float16\n",
      "date_avg_item_cnt_lag_12         float16\n",
      "date_item_avg_item_cnt_lag_1     float16\n",
      "date_item_avg_item_cnt_lag_2     float16\n",
      "date_item_avg_item_cnt_lag_3     float16\n",
      "date_item_avg_item_cnt_lag_6     float16\n",
      "date_item_avg_item_cnt_lag_12    float16\n",
      "date_shop_avg_item_cnt_lag_1     float16\n",
      "date_shop_avg_item_cnt_lag_2     float16\n",
      "date_shop_avg_item_cnt_lag_3     float16\n",
      "date_shop_avg_item_cnt_lag_6     float16\n",
      "date_shop_avg_item_cnt_lag_12    float16\n",
      "date_cat_avg_item_cnt_lag_1      float16\n",
      "date_cat_avg_item_cnt_lag_2      float16\n",
      "date_cat_avg_item_cnt_lag_3      float16\n",
      "date_cat_avg_item_cnt_lag_6      float16\n",
      "date_cat_avg_item_cnt_lag_12     float16\n",
      "dtypes: float16(26), int16(1), int8(5)\n",
      "memory usage: 711.0 MB\n"
     ]
    }
   ],
   "source": [
    "matrix.info()"
   ]
  },
  {
   "cell_type": "markdown",
   "metadata": {},
   "source": [
    "### 2.5.6 mean value of monthly sales(type) and its lag features"
   ]
  },
  {
   "cell_type": "code",
   "execution_count": 36,
   "metadata": {},
   "outputs": [
    {
     "data": {
      "text/plain": [
       "44.775643825531006"
      ]
     },
     "execution_count": 36,
     "metadata": {},
     "output_type": "execute_result"
    }
   ],
   "source": [
    "ts = time.time()\n",
    "group = matrix.groupby(['date_block_num', 'type_code']).agg({'item_cnt_month': ['mean']})\n",
    "group.columns = [ 'date_type_avg_item_cnt' ]\n",
    "group.reset_index(inplace=True)\n",
    "\n",
    "matrix = pd.merge(matrix, group, on=['date_block_num','type_code'], how='left')\n",
    "matrix['date_type_avg_item_cnt'] = matrix['date_type_avg_item_cnt'].astype(np.float16)\n",
    "matrix = lag_feature(matrix, [1,2,3,6,12], 'date_type_avg_item_cnt')\n",
    "matrix.drop(['date_type_avg_item_cnt'], axis=1, inplace=True)\n",
    "time.time() - ts"
   ]
  },
  {
   "cell_type": "code",
   "execution_count": 37,
   "metadata": {},
   "outputs": [
    {
     "name": "stdout",
     "output_type": "stream",
     "text": [
      "<class 'pandas.core.frame.DataFrame'>\n",
      "Int64Index: 11128004 entries, 0 to 11128003\n",
      "Data columns (total 37 columns):\n",
      "date_block_num                   int8\n",
      "shop_id                          int8\n",
      "item_id                          int16\n",
      "item_cnt_month                   float16\n",
      "item_category_id                 int8\n",
      "type_code                        int8\n",
      "city_code                        int8\n",
      "item_cnt_month_lag_1             float16\n",
      "item_cnt_month_lag_2             float16\n",
      "item_cnt_month_lag_3             float16\n",
      "item_cnt_month_lag_6             float16\n",
      "item_cnt_month_lag_12            float16\n",
      "date_avg_item_cnt_lag_1          float16\n",
      "date_avg_item_cnt_lag_2          float16\n",
      "date_avg_item_cnt_lag_3          float16\n",
      "date_avg_item_cnt_lag_6          float16\n",
      "date_avg_item_cnt_lag_12         float16\n",
      "date_item_avg_item_cnt_lag_1     float16\n",
      "date_item_avg_item_cnt_lag_2     float16\n",
      "date_item_avg_item_cnt_lag_3     float16\n",
      "date_item_avg_item_cnt_lag_6     float16\n",
      "date_item_avg_item_cnt_lag_12    float16\n",
      "date_shop_avg_item_cnt_lag_1     float16\n",
      "date_shop_avg_item_cnt_lag_2     float16\n",
      "date_shop_avg_item_cnt_lag_3     float16\n",
      "date_shop_avg_item_cnt_lag_6     float16\n",
      "date_shop_avg_item_cnt_lag_12    float16\n",
      "date_cat_avg_item_cnt_lag_1      float16\n",
      "date_cat_avg_item_cnt_lag_2      float16\n",
      "date_cat_avg_item_cnt_lag_3      float16\n",
      "date_cat_avg_item_cnt_lag_6      float16\n",
      "date_cat_avg_item_cnt_lag_12     float16\n",
      "date_type_avg_item_cnt_lag_1     float16\n",
      "date_type_avg_item_cnt_lag_2     float16\n",
      "date_type_avg_item_cnt_lag_3     float16\n",
      "date_type_avg_item_cnt_lag_6     float16\n",
      "date_type_avg_item_cnt_lag_12    float16\n",
      "dtypes: float16(31), int16(1), int8(5)\n",
      "memory usage: 817.2 MB\n"
     ]
    }
   ],
   "source": [
    "matrix.info()"
   ]
  },
  {
   "cell_type": "markdown",
   "metadata": {},
   "source": [
    "### 2.5.7 mean value of monthly sales(city) and its lag features"
   ]
  },
  {
   "cell_type": "code",
   "execution_count": 38,
   "metadata": {},
   "outputs": [
    {
     "data": {
      "text/plain": [
       "46.27891659736633"
      ]
     },
     "execution_count": 38,
     "metadata": {},
     "output_type": "execute_result"
    }
   ],
   "source": [
    "ts = time.time()\n",
    "group = matrix.groupby(['date_block_num', 'city_code']).agg({'item_cnt_month': ['mean']})\n",
    "group.columns = ['date_city_avg_item_cnt']\n",
    "group.reset_index(inplace=True)\n",
    "\n",
    "matrix = pd.merge(matrix, group, on=['date_block_num',  'city_code'], how='left')\n",
    "matrix['date_city_avg_item_cnt'] = matrix['date_city_avg_item_cnt'].astype(np.float16)\n",
    "matrix = lag_feature(matrix, [1,2,3,6,12], 'date_city_avg_item_cnt')\n",
    "matrix.drop(['date_city_avg_item_cnt'], axis=1, inplace=True)\n",
    "time.time() - ts"
   ]
  },
  {
   "cell_type": "code",
   "execution_count": 39,
   "metadata": {},
   "outputs": [
    {
     "name": "stdout",
     "output_type": "stream",
     "text": [
      "<class 'pandas.core.frame.DataFrame'>\n",
      "Int64Index: 11128004 entries, 0 to 11128003\n",
      "Data columns (total 42 columns):\n",
      "date_block_num                   int8\n",
      "shop_id                          int8\n",
      "item_id                          int16\n",
      "item_cnt_month                   float16\n",
      "item_category_id                 int8\n",
      "type_code                        int8\n",
      "city_code                        int8\n",
      "item_cnt_month_lag_1             float16\n",
      "item_cnt_month_lag_2             float16\n",
      "item_cnt_month_lag_3             float16\n",
      "item_cnt_month_lag_6             float16\n",
      "item_cnt_month_lag_12            float16\n",
      "date_avg_item_cnt_lag_1          float16\n",
      "date_avg_item_cnt_lag_2          float16\n",
      "date_avg_item_cnt_lag_3          float16\n",
      "date_avg_item_cnt_lag_6          float16\n",
      "date_avg_item_cnt_lag_12         float16\n",
      "date_item_avg_item_cnt_lag_1     float16\n",
      "date_item_avg_item_cnt_lag_2     float16\n",
      "date_item_avg_item_cnt_lag_3     float16\n",
      "date_item_avg_item_cnt_lag_6     float16\n",
      "date_item_avg_item_cnt_lag_12    float16\n",
      "date_shop_avg_item_cnt_lag_1     float16\n",
      "date_shop_avg_item_cnt_lag_2     float16\n",
      "date_shop_avg_item_cnt_lag_3     float16\n",
      "date_shop_avg_item_cnt_lag_6     float16\n",
      "date_shop_avg_item_cnt_lag_12    float16\n",
      "date_cat_avg_item_cnt_lag_1      float16\n",
      "date_cat_avg_item_cnt_lag_2      float16\n",
      "date_cat_avg_item_cnt_lag_3      float16\n",
      "date_cat_avg_item_cnt_lag_6      float16\n",
      "date_cat_avg_item_cnt_lag_12     float16\n",
      "date_type_avg_item_cnt_lag_1     float16\n",
      "date_type_avg_item_cnt_lag_2     float16\n",
      "date_type_avg_item_cnt_lag_3     float16\n",
      "date_type_avg_item_cnt_lag_6     float16\n",
      "date_type_avg_item_cnt_lag_12    float16\n",
      "date_city_avg_item_cnt_lag_1     float16\n",
      "date_city_avg_item_cnt_lag_2     float16\n",
      "date_city_avg_item_cnt_lag_3     float16\n",
      "date_city_avg_item_cnt_lag_6     float16\n",
      "date_city_avg_item_cnt_lag_12    float16\n",
      "dtypes: float16(36), int16(1), int8(5)\n",
      "memory usage: 923.3 MB\n"
     ]
    }
   ],
   "source": [
    "matrix.info()"
   ]
  },
  {
   "cell_type": "markdown",
   "metadata": {},
   "source": [
    "### 2.5.8 mean value of monthly sales(cat,city) and its lag features"
   ]
  },
  {
   "cell_type": "code",
   "execution_count": 40,
   "metadata": {},
   "outputs": [
    {
     "data": {
      "text/plain": [
       "53.50985789299011"
      ]
     },
     "execution_count": 40,
     "metadata": {},
     "output_type": "execute_result"
    }
   ],
   "source": [
    "ts = time.time()\n",
    "group = matrix.groupby(['date_block_num', 'item_category_id','city_code']).agg({'item_cnt_month': ['mean']})\n",
    "group.columns = [ 'date_cat_city_avg_item_cnt' ]\n",
    "group.reset_index(inplace=True)\n",
    "\n",
    "matrix = pd.merge(matrix, group, on=['date_block_num', 'item_category_id','city_code'], how='left')\n",
    "matrix['date_cat_city_avg_item_cnt'] = matrix['date_cat_city_avg_item_cnt'].astype(np.float16)\n",
    "matrix = lag_feature(matrix, [1,2,3,6,12], 'date_cat_city_avg_item_cnt')\n",
    "matrix.drop(['date_cat_city_avg_item_cnt'], axis=1, inplace=True)\n",
    "time.time() - ts"
   ]
  },
  {
   "cell_type": "code",
   "execution_count": 41,
   "metadata": {},
   "outputs": [
    {
     "name": "stdout",
     "output_type": "stream",
     "text": [
      "<class 'pandas.core.frame.DataFrame'>\n",
      "Int64Index: 11128004 entries, 0 to 11128003\n",
      "Data columns (total 47 columns):\n",
      "date_block_num                       int8\n",
      "shop_id                              int8\n",
      "item_id                              int16\n",
      "item_cnt_month                       float16\n",
      "item_category_id                     int8\n",
      "type_code                            int8\n",
      "city_code                            int8\n",
      "item_cnt_month_lag_1                 float16\n",
      "item_cnt_month_lag_2                 float16\n",
      "item_cnt_month_lag_3                 float16\n",
      "item_cnt_month_lag_6                 float16\n",
      "item_cnt_month_lag_12                float16\n",
      "date_avg_item_cnt_lag_1              float16\n",
      "date_avg_item_cnt_lag_2              float16\n",
      "date_avg_item_cnt_lag_3              float16\n",
      "date_avg_item_cnt_lag_6              float16\n",
      "date_avg_item_cnt_lag_12             float16\n",
      "date_item_avg_item_cnt_lag_1         float16\n",
      "date_item_avg_item_cnt_lag_2         float16\n",
      "date_item_avg_item_cnt_lag_3         float16\n",
      "date_item_avg_item_cnt_lag_6         float16\n",
      "date_item_avg_item_cnt_lag_12        float16\n",
      "date_shop_avg_item_cnt_lag_1         float16\n",
      "date_shop_avg_item_cnt_lag_2         float16\n",
      "date_shop_avg_item_cnt_lag_3         float16\n",
      "date_shop_avg_item_cnt_lag_6         float16\n",
      "date_shop_avg_item_cnt_lag_12        float16\n",
      "date_cat_avg_item_cnt_lag_1          float16\n",
      "date_cat_avg_item_cnt_lag_2          float16\n",
      "date_cat_avg_item_cnt_lag_3          float16\n",
      "date_cat_avg_item_cnt_lag_6          float16\n",
      "date_cat_avg_item_cnt_lag_12         float16\n",
      "date_type_avg_item_cnt_lag_1         float16\n",
      "date_type_avg_item_cnt_lag_2         float16\n",
      "date_type_avg_item_cnt_lag_3         float16\n",
      "date_type_avg_item_cnt_lag_6         float16\n",
      "date_type_avg_item_cnt_lag_12        float16\n",
      "date_city_avg_item_cnt_lag_1         float16\n",
      "date_city_avg_item_cnt_lag_2         float16\n",
      "date_city_avg_item_cnt_lag_3         float16\n",
      "date_city_avg_item_cnt_lag_6         float16\n",
      "date_city_avg_item_cnt_lag_12        float16\n",
      "date_cat_city_avg_item_cnt_lag_1     float16\n",
      "date_cat_city_avg_item_cnt_lag_2     float16\n",
      "date_cat_city_avg_item_cnt_lag_3     float16\n",
      "date_cat_city_avg_item_cnt_lag_6     float16\n",
      "date_cat_city_avg_item_cnt_lag_12    float16\n",
      "dtypes: float16(41), int16(1), int8(5)\n",
      "memory usage: 1.0 GB\n"
     ]
    }
   ],
   "source": [
    "matrix.info()"
   ]
  },
  {
   "cell_type": "markdown",
   "metadata": {},
   "source": [
    "### 2.5.9 mean value of monthly sales(type,city) and its lag features"
   ]
  },
  {
   "cell_type": "code",
   "execution_count": 42,
   "metadata": {},
   "outputs": [
    {
     "data": {
      "text/plain": [
       "54.55735635757446"
      ]
     },
     "execution_count": 42,
     "metadata": {},
     "output_type": "execute_result"
    }
   ],
   "source": [
    "ts = time.time()\n",
    "group = matrix.groupby(['date_block_num', 'type_code','city_code']).agg({'item_cnt_month': ['mean']})\n",
    "group.columns = [ 'date_type_city_avg_item_cnt' ]\n",
    "group.reset_index(inplace=True)\n",
    "\n",
    "matrix = pd.merge(matrix, group, on=['date_block_num', 'type_code','city_code'], how='left')\n",
    "matrix['date_type_city_avg_item_cnt'] = matrix['date_type_city_avg_item_cnt'].astype(np.float16)\n",
    "matrix = lag_feature(matrix, [1,2,3,6,12], 'date_type_city_avg_item_cnt')\n",
    "matrix.drop(['date_type_city_avg_item_cnt'], axis=1, inplace=True)\n",
    "time.time() - ts"
   ]
  },
  {
   "cell_type": "code",
   "execution_count": 43,
   "metadata": {},
   "outputs": [
    {
     "name": "stdout",
     "output_type": "stream",
     "text": [
      "<class 'pandas.core.frame.DataFrame'>\n",
      "Int64Index: 11128004 entries, 0 to 11128003\n",
      "Data columns (total 52 columns):\n",
      "date_block_num                        int8\n",
      "shop_id                               int8\n",
      "item_id                               int16\n",
      "item_cnt_month                        float16\n",
      "item_category_id                      int8\n",
      "type_code                             int8\n",
      "city_code                             int8\n",
      "item_cnt_month_lag_1                  float16\n",
      "item_cnt_month_lag_2                  float16\n",
      "item_cnt_month_lag_3                  float16\n",
      "item_cnt_month_lag_6                  float16\n",
      "item_cnt_month_lag_12                 float16\n",
      "date_avg_item_cnt_lag_1               float16\n",
      "date_avg_item_cnt_lag_2               float16\n",
      "date_avg_item_cnt_lag_3               float16\n",
      "date_avg_item_cnt_lag_6               float16\n",
      "date_avg_item_cnt_lag_12              float16\n",
      "date_item_avg_item_cnt_lag_1          float16\n",
      "date_item_avg_item_cnt_lag_2          float16\n",
      "date_item_avg_item_cnt_lag_3          float16\n",
      "date_item_avg_item_cnt_lag_6          float16\n",
      "date_item_avg_item_cnt_lag_12         float16\n",
      "date_shop_avg_item_cnt_lag_1          float16\n",
      "date_shop_avg_item_cnt_lag_2          float16\n",
      "date_shop_avg_item_cnt_lag_3          float16\n",
      "date_shop_avg_item_cnt_lag_6          float16\n",
      "date_shop_avg_item_cnt_lag_12         float16\n",
      "date_cat_avg_item_cnt_lag_1           float16\n",
      "date_cat_avg_item_cnt_lag_2           float16\n",
      "date_cat_avg_item_cnt_lag_3           float16\n",
      "date_cat_avg_item_cnt_lag_6           float16\n",
      "date_cat_avg_item_cnt_lag_12          float16\n",
      "date_type_avg_item_cnt_lag_1          float16\n",
      "date_type_avg_item_cnt_lag_2          float16\n",
      "date_type_avg_item_cnt_lag_3          float16\n",
      "date_type_avg_item_cnt_lag_6          float16\n",
      "date_type_avg_item_cnt_lag_12         float16\n",
      "date_city_avg_item_cnt_lag_1          float16\n",
      "date_city_avg_item_cnt_lag_2          float16\n",
      "date_city_avg_item_cnt_lag_3          float16\n",
      "date_city_avg_item_cnt_lag_6          float16\n",
      "date_city_avg_item_cnt_lag_12         float16\n",
      "date_cat_city_avg_item_cnt_lag_1      float16\n",
      "date_cat_city_avg_item_cnt_lag_2      float16\n",
      "date_cat_city_avg_item_cnt_lag_3      float16\n",
      "date_cat_city_avg_item_cnt_lag_6      float16\n",
      "date_cat_city_avg_item_cnt_lag_12     float16\n",
      "date_type_city_avg_item_cnt_lag_1     float16\n",
      "date_type_city_avg_item_cnt_lag_2     float16\n",
      "date_type_city_avg_item_cnt_lag_3     float16\n",
      "date_type_city_avg_item_cnt_lag_6     float16\n",
      "date_type_city_avg_item_cnt_lag_12    float16\n",
      "dtypes: float16(46), int16(1), int8(5)\n",
      "memory usage: 1.1 GB\n"
     ]
    }
   ],
   "source": [
    "matrix.info()"
   ]
  },
  {
   "cell_type": "markdown",
   "metadata": {},
   "source": [
    "### 2.5.10 mean value of monthly sales(type,shop) and its lag features"
   ]
  },
  {
   "cell_type": "code",
   "execution_count": 44,
   "metadata": {},
   "outputs": [
    {
     "data": {
      "text/plain": [
       "55.10264801979065"
      ]
     },
     "execution_count": 44,
     "metadata": {},
     "output_type": "execute_result"
    }
   ],
   "source": [
    "ts = time.time()\n",
    "group = matrix.groupby(['date_block_num', 'type_code','shop_id']).agg({'item_cnt_month': ['mean']})\n",
    "group.columns = [ 'date_type_shop_avg_item_cnt' ]\n",
    "group.reset_index(inplace=True)\n",
    "\n",
    "matrix = pd.merge(matrix, group, on=['date_block_num', 'type_code','shop_id'], how='left')\n",
    "matrix['date_type_shop_avg_item_cnt'] = matrix['date_type_shop_avg_item_cnt'].astype(np.float16)\n",
    "matrix = lag_feature(matrix, [1,2,3,6,12], 'date_type_shop_avg_item_cnt')\n",
    "matrix.drop(['date_type_shop_avg_item_cnt'], axis=1, inplace=True)\n",
    "time.time() - ts"
   ]
  },
  {
   "cell_type": "code",
   "execution_count": 45,
   "metadata": {},
   "outputs": [
    {
     "name": "stdout",
     "output_type": "stream",
     "text": [
      "<class 'pandas.core.frame.DataFrame'>\n",
      "Int64Index: 11128004 entries, 0 to 11128003\n",
      "Data columns (total 57 columns):\n",
      "date_block_num                        int8\n",
      "shop_id                               int8\n",
      "item_id                               int16\n",
      "item_cnt_month                        float16\n",
      "item_category_id                      int8\n",
      "type_code                             int8\n",
      "city_code                             int8\n",
      "item_cnt_month_lag_1                  float16\n",
      "item_cnt_month_lag_2                  float16\n",
      "item_cnt_month_lag_3                  float16\n",
      "item_cnt_month_lag_6                  float16\n",
      "item_cnt_month_lag_12                 float16\n",
      "date_avg_item_cnt_lag_1               float16\n",
      "date_avg_item_cnt_lag_2               float16\n",
      "date_avg_item_cnt_lag_3               float16\n",
      "date_avg_item_cnt_lag_6               float16\n",
      "date_avg_item_cnt_lag_12              float16\n",
      "date_item_avg_item_cnt_lag_1          float16\n",
      "date_item_avg_item_cnt_lag_2          float16\n",
      "date_item_avg_item_cnt_lag_3          float16\n",
      "date_item_avg_item_cnt_lag_6          float16\n",
      "date_item_avg_item_cnt_lag_12         float16\n",
      "date_shop_avg_item_cnt_lag_1          float16\n",
      "date_shop_avg_item_cnt_lag_2          float16\n",
      "date_shop_avg_item_cnt_lag_3          float16\n",
      "date_shop_avg_item_cnt_lag_6          float16\n",
      "date_shop_avg_item_cnt_lag_12         float16\n",
      "date_cat_avg_item_cnt_lag_1           float16\n",
      "date_cat_avg_item_cnt_lag_2           float16\n",
      "date_cat_avg_item_cnt_lag_3           float16\n",
      "date_cat_avg_item_cnt_lag_6           float16\n",
      "date_cat_avg_item_cnt_lag_12          float16\n",
      "date_type_avg_item_cnt_lag_1          float16\n",
      "date_type_avg_item_cnt_lag_2          float16\n",
      "date_type_avg_item_cnt_lag_3          float16\n",
      "date_type_avg_item_cnt_lag_6          float16\n",
      "date_type_avg_item_cnt_lag_12         float16\n",
      "date_city_avg_item_cnt_lag_1          float16\n",
      "date_city_avg_item_cnt_lag_2          float16\n",
      "date_city_avg_item_cnt_lag_3          float16\n",
      "date_city_avg_item_cnt_lag_6          float16\n",
      "date_city_avg_item_cnt_lag_12         float16\n",
      "date_cat_city_avg_item_cnt_lag_1      float16\n",
      "date_cat_city_avg_item_cnt_lag_2      float16\n",
      "date_cat_city_avg_item_cnt_lag_3      float16\n",
      "date_cat_city_avg_item_cnt_lag_6      float16\n",
      "date_cat_city_avg_item_cnt_lag_12     float16\n",
      "date_type_city_avg_item_cnt_lag_1     float16\n",
      "date_type_city_avg_item_cnt_lag_2     float16\n",
      "date_type_city_avg_item_cnt_lag_3     float16\n",
      "date_type_city_avg_item_cnt_lag_6     float16\n",
      "date_type_city_avg_item_cnt_lag_12    float16\n",
      "date_type_shop_avg_item_cnt_lag_1     float16\n",
      "date_type_shop_avg_item_cnt_lag_2     float16\n",
      "date_type_shop_avg_item_cnt_lag_3     float16\n",
      "date_type_shop_avg_item_cnt_lag_6     float16\n",
      "date_type_shop_avg_item_cnt_lag_12    float16\n",
      "dtypes: float16(51), int16(1), int8(5)\n",
      "memory usage: 1.2 GB\n"
     ]
    }
   ],
   "source": [
    "matrix.info()"
   ]
  },
  {
   "cell_type": "markdown",
   "metadata": {},
   "source": []
  },
  {
   "cell_type": "markdown",
   "metadata": {},
   "source": [
    "## 2.6 trend features"
   ]
  },
  {
   "cell_type": "markdown",
   "metadata": {},
   "source": [
    "Price trend"
   ]
  },
  {
   "cell_type": "code",
   "execution_count": 46,
   "metadata": {},
   "outputs": [
    {
     "data": {
      "text/plain": [
       "661.6136984825134"
      ]
     },
     "execution_count": 46,
     "metadata": {},
     "output_type": "execute_result"
    }
   ],
   "source": [
    "ts = time.time()\n",
    "group = sales_train.groupby(['item_id']).agg({'item_price': ['mean']})\n",
    "group.columns = ['item_avg_item_price']\n",
    "group.reset_index(inplace=True)\n",
    "\n",
    "matrix = pd.merge(matrix, group, on=['item_id'], how='left')\n",
    "matrix['item_avg_item_price'] = matrix['item_avg_item_price'].astype(np.float16)\n",
    "\n",
    "group = sales_train.groupby(['date_block_num','item_id']).agg({'item_price': ['mean']})\n",
    "group.columns = ['date_item_avg_item_price']\n",
    "group.reset_index(inplace=True)\n",
    "\n",
    "matrix = pd.merge(matrix, group, on=['date_block_num','item_id'], how='left')\n",
    "matrix['date_item_avg_item_price'] = matrix['date_item_avg_item_price'].astype(np.float16)\n",
    "\n",
    "lags = [1,2,3,4,5,6,12]\n",
    "matrix = lag_feature(matrix, lags, 'date_item_avg_item_price')\n",
    "\n",
    "for i in lags:\n",
    "    matrix['delta_price_lag_'+str(i)] = \\\n",
    "        (matrix['date_item_avg_item_price_lag_'+str(i)] - matrix['item_avg_item_price']) / matrix['item_avg_item_price']\n",
    "\n",
    "def select_trend(row):\n",
    "    for i in lags:\n",
    "        if row['delta_price_lag_'+str(i)]:\n",
    "            return row['delta_price_lag_'+str(i)]\n",
    "    return 0\n",
    "    \n",
    "matrix['delta_price_lag'] = matrix.apply(select_trend, axis=1)\n",
    "matrix['delta_price_lag'] = matrix['delta_price_lag'].astype(np.float16)\n",
    "matrix['delta_price_lag'].fillna(0, inplace=True)\n",
    "\n",
    "# https://stackoverflow.com/questions/31828240/first-non-null-value-per-row-from-a-list-of-pandas-columns/31828559\n",
    "# matrix['price_trend'] = matrix[['delta_price_lag_1','delta_price_lag_2','delta_price_lag_3']].bfill(axis=1).iloc[:, 0]\n",
    "# Invalid dtype for backfill_2d [float16]\n",
    "\n",
    "fetures_to_drop = ['item_avg_item_price', 'date_item_avg_item_price']\n",
    "for i in lags:\n",
    "    fetures_to_drop += ['date_item_avg_item_price_lag_'+str(i)]\n",
    "    fetures_to_drop += ['delta_price_lag_'+str(i)]\n",
    "\n",
    "matrix.drop(fetures_to_drop, axis=1, inplace=True)\n",
    "\n",
    "time.time() - ts"
   ]
  },
  {
   "cell_type": "code",
   "execution_count": 47,
   "metadata": {},
   "outputs": [
    {
     "name": "stdout",
     "output_type": "stream",
     "text": [
      "<class 'pandas.core.frame.DataFrame'>\n",
      "Int64Index: 11128004 entries, 0 to 11128003\n",
      "Data columns (total 58 columns):\n",
      "date_block_num                        int8\n",
      "shop_id                               int8\n",
      "item_id                               int16\n",
      "item_cnt_month                        float16\n",
      "item_category_id                      int8\n",
      "type_code                             int8\n",
      "city_code                             int8\n",
      "item_cnt_month_lag_1                  float16\n",
      "item_cnt_month_lag_2                  float16\n",
      "item_cnt_month_lag_3                  float16\n",
      "item_cnt_month_lag_6                  float16\n",
      "item_cnt_month_lag_12                 float16\n",
      "date_avg_item_cnt_lag_1               float16\n",
      "date_avg_item_cnt_lag_2               float16\n",
      "date_avg_item_cnt_lag_3               float16\n",
      "date_avg_item_cnt_lag_6               float16\n",
      "date_avg_item_cnt_lag_12              float16\n",
      "date_item_avg_item_cnt_lag_1          float16\n",
      "date_item_avg_item_cnt_lag_2          float16\n",
      "date_item_avg_item_cnt_lag_3          float16\n",
      "date_item_avg_item_cnt_lag_6          float16\n",
      "date_item_avg_item_cnt_lag_12         float16\n",
      "date_shop_avg_item_cnt_lag_1          float16\n",
      "date_shop_avg_item_cnt_lag_2          float16\n",
      "date_shop_avg_item_cnt_lag_3          float16\n",
      "date_shop_avg_item_cnt_lag_6          float16\n",
      "date_shop_avg_item_cnt_lag_12         float16\n",
      "date_cat_avg_item_cnt_lag_1           float16\n",
      "date_cat_avg_item_cnt_lag_2           float16\n",
      "date_cat_avg_item_cnt_lag_3           float16\n",
      "date_cat_avg_item_cnt_lag_6           float16\n",
      "date_cat_avg_item_cnt_lag_12          float16\n",
      "date_type_avg_item_cnt_lag_1          float16\n",
      "date_type_avg_item_cnt_lag_2          float16\n",
      "date_type_avg_item_cnt_lag_3          float16\n",
      "date_type_avg_item_cnt_lag_6          float16\n",
      "date_type_avg_item_cnt_lag_12         float16\n",
      "date_city_avg_item_cnt_lag_1          float16\n",
      "date_city_avg_item_cnt_lag_2          float16\n",
      "date_city_avg_item_cnt_lag_3          float16\n",
      "date_city_avg_item_cnt_lag_6          float16\n",
      "date_city_avg_item_cnt_lag_12         float16\n",
      "date_cat_city_avg_item_cnt_lag_1      float16\n",
      "date_cat_city_avg_item_cnt_lag_2      float16\n",
      "date_cat_city_avg_item_cnt_lag_3      float16\n",
      "date_cat_city_avg_item_cnt_lag_6      float16\n",
      "date_cat_city_avg_item_cnt_lag_12     float16\n",
      "date_type_city_avg_item_cnt_lag_1     float16\n",
      "date_type_city_avg_item_cnt_lag_2     float16\n",
      "date_type_city_avg_item_cnt_lag_3     float16\n",
      "date_type_city_avg_item_cnt_lag_6     float16\n",
      "date_type_city_avg_item_cnt_lag_12    float16\n",
      "date_type_shop_avg_item_cnt_lag_1     float16\n",
      "date_type_shop_avg_item_cnt_lag_2     float16\n",
      "date_type_shop_avg_item_cnt_lag_3     float16\n",
      "date_type_shop_avg_item_cnt_lag_6     float16\n",
      "date_type_shop_avg_item_cnt_lag_12    float16\n",
      "delta_price_lag                       float16\n",
      "dtypes: float16(52), int16(1), int8(5)\n",
      "memory usage: 1.2 GB\n"
     ]
    }
   ],
   "source": [
    "matrix.info()"
   ]
  },
  {
   "cell_type": "markdown",
   "metadata": {},
   "source": [
    "Last month shop revenue trend"
   ]
  },
  {
   "cell_type": "code",
   "execution_count": 48,
   "metadata": {},
   "outputs": [
    {
     "data": {
      "text/plain": [
       "30.622531414031982"
      ]
     },
     "execution_count": 48,
     "metadata": {},
     "output_type": "execute_result"
    }
   ],
   "source": [
    "ts = time.time()\n",
    "group = sales_train.groupby(['date_block_num','shop_id']).agg({'revenue': ['sum']})\n",
    "group.columns = ['date_shop_revenue']\n",
    "group.reset_index(inplace=True)\n",
    "\n",
    "matrix = pd.merge(matrix, group, on=['date_block_num','shop_id'], how='left')\n",
    "matrix['date_shop_revenue'] = matrix['date_shop_revenue'].astype(np.float32)\n",
    "\n",
    "group = group.groupby(['shop_id']).agg({'date_shop_revenue': ['mean']})\n",
    "group.columns = ['shop_avg_revenue']\n",
    "group.reset_index(inplace=True)\n",
    "\n",
    "matrix = pd.merge(matrix, group, on=['shop_id'], how='left')\n",
    "matrix['shop_avg_revenue'] = matrix['shop_avg_revenue'].astype(np.float32)\n",
    "\n",
    "matrix['delta_revenue'] = (matrix['date_shop_revenue'] - matrix['shop_avg_revenue']) / matrix['shop_avg_revenue']\n",
    "matrix['delta_revenue'] = matrix['delta_revenue'].astype(np.float16)\n",
    "\n",
    "matrix = lag_feature(matrix, [1], 'delta_revenue')\n",
    "\n",
    "matrix.drop(['date_shop_revenue','shop_avg_revenue','delta_revenue'], axis=1, inplace=True)\n",
    "time.time() - ts"
   ]
  },
  {
   "cell_type": "code",
   "execution_count": 49,
   "metadata": {},
   "outputs": [
    {
     "name": "stdout",
     "output_type": "stream",
     "text": [
      "<class 'pandas.core.frame.DataFrame'>\n",
      "Int64Index: 11128004 entries, 0 to 11128003\n",
      "Data columns (total 59 columns):\n",
      "date_block_num                        int8\n",
      "shop_id                               int8\n",
      "item_id                               int16\n",
      "item_cnt_month                        float16\n",
      "item_category_id                      int8\n",
      "type_code                             int8\n",
      "city_code                             int8\n",
      "item_cnt_month_lag_1                  float16\n",
      "item_cnt_month_lag_2                  float16\n",
      "item_cnt_month_lag_3                  float16\n",
      "item_cnt_month_lag_6                  float16\n",
      "item_cnt_month_lag_12                 float16\n",
      "date_avg_item_cnt_lag_1               float16\n",
      "date_avg_item_cnt_lag_2               float16\n",
      "date_avg_item_cnt_lag_3               float16\n",
      "date_avg_item_cnt_lag_6               float16\n",
      "date_avg_item_cnt_lag_12              float16\n",
      "date_item_avg_item_cnt_lag_1          float16\n",
      "date_item_avg_item_cnt_lag_2          float16\n",
      "date_item_avg_item_cnt_lag_3          float16\n",
      "date_item_avg_item_cnt_lag_6          float16\n",
      "date_item_avg_item_cnt_lag_12         float16\n",
      "date_shop_avg_item_cnt_lag_1          float16\n",
      "date_shop_avg_item_cnt_lag_2          float16\n",
      "date_shop_avg_item_cnt_lag_3          float16\n",
      "date_shop_avg_item_cnt_lag_6          float16\n",
      "date_shop_avg_item_cnt_lag_12         float16\n",
      "date_cat_avg_item_cnt_lag_1           float16\n",
      "date_cat_avg_item_cnt_lag_2           float16\n",
      "date_cat_avg_item_cnt_lag_3           float16\n",
      "date_cat_avg_item_cnt_lag_6           float16\n",
      "date_cat_avg_item_cnt_lag_12          float16\n",
      "date_type_avg_item_cnt_lag_1          float16\n",
      "date_type_avg_item_cnt_lag_2          float16\n",
      "date_type_avg_item_cnt_lag_3          float16\n",
      "date_type_avg_item_cnt_lag_6          float16\n",
      "date_type_avg_item_cnt_lag_12         float16\n",
      "date_city_avg_item_cnt_lag_1          float16\n",
      "date_city_avg_item_cnt_lag_2          float16\n",
      "date_city_avg_item_cnt_lag_3          float16\n",
      "date_city_avg_item_cnt_lag_6          float16\n",
      "date_city_avg_item_cnt_lag_12         float16\n",
      "date_cat_city_avg_item_cnt_lag_1      float16\n",
      "date_cat_city_avg_item_cnt_lag_2      float16\n",
      "date_cat_city_avg_item_cnt_lag_3      float16\n",
      "date_cat_city_avg_item_cnt_lag_6      float16\n",
      "date_cat_city_avg_item_cnt_lag_12     float16\n",
      "date_type_city_avg_item_cnt_lag_1     float16\n",
      "date_type_city_avg_item_cnt_lag_2     float16\n",
      "date_type_city_avg_item_cnt_lag_3     float16\n",
      "date_type_city_avg_item_cnt_lag_6     float16\n",
      "date_type_city_avg_item_cnt_lag_12    float16\n",
      "date_type_shop_avg_item_cnt_lag_1     float16\n",
      "date_type_shop_avg_item_cnt_lag_2     float16\n",
      "date_type_shop_avg_item_cnt_lag_3     float16\n",
      "date_type_shop_avg_item_cnt_lag_6     float16\n",
      "date_type_shop_avg_item_cnt_lag_12    float16\n",
      "delta_price_lag                       float16\n",
      "delta_revenue_lag_1                   float16\n",
      "dtypes: float16(53), int16(1), int8(5)\n",
      "memory usage: 1.3 GB\n"
     ]
    }
   ],
   "source": [
    "matrix.info()"
   ]
  },
  {
   "cell_type": "markdown",
   "metadata": {},
   "source": [
    "## 2.7 Special features¶"
   ]
  },
  {
   "cell_type": "code",
   "execution_count": 50,
   "metadata": {},
   "outputs": [],
   "source": [
    "matrix['month'] = matrix['date_block_num'] % 12\n",
    "days = pd.Series([31,28,31,30,31,30,31,31,30,31,30,31])\n",
    "matrix['days'] = matrix['month'].map(days).astype(np.int8)"
   ]
  },
  {
   "cell_type": "markdown",
   "metadata": {},
   "source": [
    "Months since the last sale for each shop/item pair and for item only. I use programing approach.\n",
    "\n",
    "Create HashTable with key equals to {shop_id,item_id} and value equals to date_block_num. Iterate data from the top. Foreach row if {row.shop_id,row.item_id} is not present in the table, then add it to the table and set its value to row.date_block_num. if HashTable contains key, then calculate the difference beteween cached value and row.date_block_num."
   ]
  },
  {
   "cell_type": "code",
   "execution_count": 51,
   "metadata": {},
   "outputs": [
    {
     "data": {
      "text/plain": [
       "723.9734854698181"
      ]
     },
     "execution_count": 51,
     "metadata": {},
     "output_type": "execute_result"
    }
   ],
   "source": [
    "ts = time.time()\n",
    "cache = {}\n",
    "matrix['item_shop_last_sale'] = -1\n",
    "matrix['item_shop_last_sale'] = matrix['item_shop_last_sale'].astype(np.int8)\n",
    "for idx, row in matrix.iterrows():    \n",
    "    key = str(row.item_id)+' '+str(row.shop_id)\n",
    "    if key not in cache:\n",
    "        if row.item_cnt_month!=0:\n",
    "            cache[key] = row.date_block_num\n",
    "    else:\n",
    "        last_date_block_num = cache[key]\n",
    "        matrix.at[idx, 'item_shop_last_sale'] = row.date_block_num - last_date_block_num\n",
    "        cache[key] = row.date_block_num         \n",
    "time.time() - ts"
   ]
  },
  {
   "cell_type": "code",
   "execution_count": 52,
   "metadata": {},
   "outputs": [
    {
     "name": "stdout",
     "output_type": "stream",
     "text": [
      "<class 'pandas.core.frame.DataFrame'>\n",
      "Int64Index: 11128004 entries, 0 to 11128003\n",
      "Data columns (total 62 columns):\n",
      "date_block_num                        int8\n",
      "shop_id                               int8\n",
      "item_id                               int16\n",
      "item_cnt_month                        float16\n",
      "item_category_id                      int8\n",
      "type_code                             int8\n",
      "city_code                             int8\n",
      "item_cnt_month_lag_1                  float16\n",
      "item_cnt_month_lag_2                  float16\n",
      "item_cnt_month_lag_3                  float16\n",
      "item_cnt_month_lag_6                  float16\n",
      "item_cnt_month_lag_12                 float16\n",
      "date_avg_item_cnt_lag_1               float16\n",
      "date_avg_item_cnt_lag_2               float16\n",
      "date_avg_item_cnt_lag_3               float16\n",
      "date_avg_item_cnt_lag_6               float16\n",
      "date_avg_item_cnt_lag_12              float16\n",
      "date_item_avg_item_cnt_lag_1          float16\n",
      "date_item_avg_item_cnt_lag_2          float16\n",
      "date_item_avg_item_cnt_lag_3          float16\n",
      "date_item_avg_item_cnt_lag_6          float16\n",
      "date_item_avg_item_cnt_lag_12         float16\n",
      "date_shop_avg_item_cnt_lag_1          float16\n",
      "date_shop_avg_item_cnt_lag_2          float16\n",
      "date_shop_avg_item_cnt_lag_3          float16\n",
      "date_shop_avg_item_cnt_lag_6          float16\n",
      "date_shop_avg_item_cnt_lag_12         float16\n",
      "date_cat_avg_item_cnt_lag_1           float16\n",
      "date_cat_avg_item_cnt_lag_2           float16\n",
      "date_cat_avg_item_cnt_lag_3           float16\n",
      "date_cat_avg_item_cnt_lag_6           float16\n",
      "date_cat_avg_item_cnt_lag_12          float16\n",
      "date_type_avg_item_cnt_lag_1          float16\n",
      "date_type_avg_item_cnt_lag_2          float16\n",
      "date_type_avg_item_cnt_lag_3          float16\n",
      "date_type_avg_item_cnt_lag_6          float16\n",
      "date_type_avg_item_cnt_lag_12         float16\n",
      "date_city_avg_item_cnt_lag_1          float16\n",
      "date_city_avg_item_cnt_lag_2          float16\n",
      "date_city_avg_item_cnt_lag_3          float16\n",
      "date_city_avg_item_cnt_lag_6          float16\n",
      "date_city_avg_item_cnt_lag_12         float16\n",
      "date_cat_city_avg_item_cnt_lag_1      float16\n",
      "date_cat_city_avg_item_cnt_lag_2      float16\n",
      "date_cat_city_avg_item_cnt_lag_3      float16\n",
      "date_cat_city_avg_item_cnt_lag_6      float16\n",
      "date_cat_city_avg_item_cnt_lag_12     float16\n",
      "date_type_city_avg_item_cnt_lag_1     float16\n",
      "date_type_city_avg_item_cnt_lag_2     float16\n",
      "date_type_city_avg_item_cnt_lag_3     float16\n",
      "date_type_city_avg_item_cnt_lag_6     float16\n",
      "date_type_city_avg_item_cnt_lag_12    float16\n",
      "date_type_shop_avg_item_cnt_lag_1     float16\n",
      "date_type_shop_avg_item_cnt_lag_2     float16\n",
      "date_type_shop_avg_item_cnt_lag_3     float16\n",
      "date_type_shop_avg_item_cnt_lag_6     float16\n",
      "date_type_shop_avg_item_cnt_lag_12    float16\n",
      "delta_price_lag                       float16\n",
      "delta_revenue_lag_1                   float16\n",
      "month                                 int8\n",
      "days                                  int8\n",
      "item_shop_last_sale                   int8\n",
      "dtypes: float16(53), int16(1), int8(8)\n",
      "memory usage: 1.3 GB\n"
     ]
    }
   ],
   "source": [
    "matrix.info()"
   ]
  },
  {
   "cell_type": "markdown",
   "metadata": {},
   "source": [
    "Months since the first sale for each shop/item pair and for item only."
   ]
  },
  {
   "cell_type": "code",
   "execution_count": 53,
   "metadata": {},
   "outputs": [
    {
     "data": {
      "text/plain": [
       "2.6329493522644043"
      ]
     },
     "execution_count": 53,
     "metadata": {},
     "output_type": "execute_result"
    }
   ],
   "source": [
    "ts = time.time()\n",
    "matrix['item_shop_first_sale'] = matrix['date_block_num'] - matrix.groupby(['item_id','shop_id'])['date_block_num'].transform('min')\n",
    "matrix['item_first_sale'] = matrix['date_block_num'] - matrix.groupby('item_id')['date_block_num'].transform('min')\n",
    "time.time() - ts"
   ]
  },
  {
   "cell_type": "markdown",
   "metadata": {},
   "source": [
    "## 2.8 Final preparations\n",
    "Because of the using 12 as lag value drop first 12 months. Also drop all the columns with this month calculated values (other words which can not be calcucated for the test set). "
   ]
  },
  {
   "cell_type": "code",
   "execution_count": 54,
   "metadata": {},
   "outputs": [
    {
     "data": {
      "text/plain": [
       "2.4995715618133545"
      ]
     },
     "execution_count": 54,
     "metadata": {},
     "output_type": "execute_result"
    }
   ],
   "source": [
    "ts = time.time()\n",
    "matrix = matrix[matrix.date_block_num > 11]\n",
    "time.time() - ts"
   ]
  },
  {
   "cell_type": "code",
   "execution_count": 55,
   "metadata": {},
   "outputs": [
    {
     "data": {
      "text/plain": [
       "6.853430271148682"
      ]
     },
     "execution_count": 55,
     "metadata": {},
     "output_type": "execute_result"
    }
   ],
   "source": [
    "ts = time.time()\n",
    "def fill_na(df):\n",
    "    for col in df.columns:\n",
    "        if ('_lag_' in col) & (df[col].isnull().any()):\n",
    "            if ('item_cnt' in col):\n",
    "                df[col].fillna(0, inplace=True)         \n",
    "    return df\n",
    "\n",
    "matrix = fill_na(matrix)\n",
    "time.time() - ts"
   ]
  },
  {
   "cell_type": "code",
   "execution_count": 56,
   "metadata": {},
   "outputs": [
    {
     "data": {
      "text/plain": [
       "Index(['date_block_num', 'shop_id', 'item_id', 'item_cnt_month',\n",
       "       'item_category_id', 'type_code', 'city_code', 'item_cnt_month_lag_1',\n",
       "       'item_cnt_month_lag_2', 'item_cnt_month_lag_3', 'item_cnt_month_lag_6',\n",
       "       'item_cnt_month_lag_12', 'date_avg_item_cnt_lag_1',\n",
       "       'date_avg_item_cnt_lag_2', 'date_avg_item_cnt_lag_3',\n",
       "       'date_avg_item_cnt_lag_6', 'date_avg_item_cnt_lag_12',\n",
       "       'date_item_avg_item_cnt_lag_1', 'date_item_avg_item_cnt_lag_2',\n",
       "       'date_item_avg_item_cnt_lag_3', 'date_item_avg_item_cnt_lag_6',\n",
       "       'date_item_avg_item_cnt_lag_12', 'date_shop_avg_item_cnt_lag_1',\n",
       "       'date_shop_avg_item_cnt_lag_2', 'date_shop_avg_item_cnt_lag_3',\n",
       "       'date_shop_avg_item_cnt_lag_6', 'date_shop_avg_item_cnt_lag_12',\n",
       "       'date_cat_avg_item_cnt_lag_1', 'date_cat_avg_item_cnt_lag_2',\n",
       "       'date_cat_avg_item_cnt_lag_3', 'date_cat_avg_item_cnt_lag_6',\n",
       "       'date_cat_avg_item_cnt_lag_12', 'date_type_avg_item_cnt_lag_1',\n",
       "       'date_type_avg_item_cnt_lag_2', 'date_type_avg_item_cnt_lag_3',\n",
       "       'date_type_avg_item_cnt_lag_6', 'date_type_avg_item_cnt_lag_12',\n",
       "       'date_city_avg_item_cnt_lag_1', 'date_city_avg_item_cnt_lag_2',\n",
       "       'date_city_avg_item_cnt_lag_3', 'date_city_avg_item_cnt_lag_6',\n",
       "       'date_city_avg_item_cnt_lag_12', 'date_cat_city_avg_item_cnt_lag_1',\n",
       "       'date_cat_city_avg_item_cnt_lag_2', 'date_cat_city_avg_item_cnt_lag_3',\n",
       "       'date_cat_city_avg_item_cnt_lag_6', 'date_cat_city_avg_item_cnt_lag_12',\n",
       "       'date_type_city_avg_item_cnt_lag_1',\n",
       "       'date_type_city_avg_item_cnt_lag_2',\n",
       "       'date_type_city_avg_item_cnt_lag_3',\n",
       "       'date_type_city_avg_item_cnt_lag_6',\n",
       "       'date_type_city_avg_item_cnt_lag_12',\n",
       "       'date_type_shop_avg_item_cnt_lag_1',\n",
       "       'date_type_shop_avg_item_cnt_lag_2',\n",
       "       'date_type_shop_avg_item_cnt_lag_3',\n",
       "       'date_type_shop_avg_item_cnt_lag_6',\n",
       "       'date_type_shop_avg_item_cnt_lag_12', 'delta_price_lag',\n",
       "       'delta_revenue_lag_1', 'month', 'days', 'item_shop_last_sale',\n",
       "       'item_shop_first_sale', 'item_first_sale'],\n",
       "      dtype='object')"
      ]
     },
     "execution_count": 56,
     "metadata": {},
     "output_type": "execute_result"
    }
   ],
   "source": [
    "matrix.columns"
   ]
  },
  {
   "cell_type": "code",
   "execution_count": 57,
   "metadata": {},
   "outputs": [
    {
     "name": "stdout",
     "output_type": "stream",
     "text": [
      "<class 'pandas.core.frame.DataFrame'>\n",
      "Int64Index: 6639294 entries, 4488710 to 11128003\n",
      "Data columns (total 64 columns):\n",
      "date_block_num                        int8\n",
      "shop_id                               int8\n",
      "item_id                               int16\n",
      "item_cnt_month                        float16\n",
      "item_category_id                      int8\n",
      "type_code                             int8\n",
      "city_code                             int8\n",
      "item_cnt_month_lag_1                  float16\n",
      "item_cnt_month_lag_2                  float16\n",
      "item_cnt_month_lag_3                  float16\n",
      "item_cnt_month_lag_6                  float16\n",
      "item_cnt_month_lag_12                 float16\n",
      "date_avg_item_cnt_lag_1               float16\n",
      "date_avg_item_cnt_lag_2               float16\n",
      "date_avg_item_cnt_lag_3               float16\n",
      "date_avg_item_cnt_lag_6               float16\n",
      "date_avg_item_cnt_lag_12              float16\n",
      "date_item_avg_item_cnt_lag_1          float16\n",
      "date_item_avg_item_cnt_lag_2          float16\n",
      "date_item_avg_item_cnt_lag_3          float16\n",
      "date_item_avg_item_cnt_lag_6          float16\n",
      "date_item_avg_item_cnt_lag_12         float16\n",
      "date_shop_avg_item_cnt_lag_1          float16\n",
      "date_shop_avg_item_cnt_lag_2          float16\n",
      "date_shop_avg_item_cnt_lag_3          float16\n",
      "date_shop_avg_item_cnt_lag_6          float16\n",
      "date_shop_avg_item_cnt_lag_12         float16\n",
      "date_cat_avg_item_cnt_lag_1           float16\n",
      "date_cat_avg_item_cnt_lag_2           float16\n",
      "date_cat_avg_item_cnt_lag_3           float16\n",
      "date_cat_avg_item_cnt_lag_6           float16\n",
      "date_cat_avg_item_cnt_lag_12          float16\n",
      "date_type_avg_item_cnt_lag_1          float16\n",
      "date_type_avg_item_cnt_lag_2          float16\n",
      "date_type_avg_item_cnt_lag_3          float16\n",
      "date_type_avg_item_cnt_lag_6          float16\n",
      "date_type_avg_item_cnt_lag_12         float16\n",
      "date_city_avg_item_cnt_lag_1          float16\n",
      "date_city_avg_item_cnt_lag_2          float16\n",
      "date_city_avg_item_cnt_lag_3          float16\n",
      "date_city_avg_item_cnt_lag_6          float16\n",
      "date_city_avg_item_cnt_lag_12         float16\n",
      "date_cat_city_avg_item_cnt_lag_1      float16\n",
      "date_cat_city_avg_item_cnt_lag_2      float16\n",
      "date_cat_city_avg_item_cnt_lag_3      float16\n",
      "date_cat_city_avg_item_cnt_lag_6      float16\n",
      "date_cat_city_avg_item_cnt_lag_12     float16\n",
      "date_type_city_avg_item_cnt_lag_1     float16\n",
      "date_type_city_avg_item_cnt_lag_2     float16\n",
      "date_type_city_avg_item_cnt_lag_3     float16\n",
      "date_type_city_avg_item_cnt_lag_6     float16\n",
      "date_type_city_avg_item_cnt_lag_12    float16\n",
      "date_type_shop_avg_item_cnt_lag_1     float16\n",
      "date_type_shop_avg_item_cnt_lag_2     float16\n",
      "date_type_shop_avg_item_cnt_lag_3     float16\n",
      "date_type_shop_avg_item_cnt_lag_6     float16\n",
      "date_type_shop_avg_item_cnt_lag_12    float16\n",
      "delta_price_lag                       float16\n",
      "delta_revenue_lag_1                   float16\n",
      "month                                 int8\n",
      "days                                  int8\n",
      "item_shop_last_sale                   int8\n",
      "item_shop_first_sale                  int8\n",
      "item_first_sale                       int8\n",
      "dtypes: float16(53), int16(1), int8(10)\n",
      "memory usage: 797.8 MB\n"
     ]
    }
   ],
   "source": [
    "matrix.info()"
   ]
  },
  {
   "cell_type": "code",
   "execution_count": 58,
   "metadata": {},
   "outputs": [
    {
     "ename": "NameError",
     "evalue": "name 'cats' is not defined",
     "output_type": "error",
     "traceback": [
      "\u001b[1;31m---------------------------------------------------------------------------\u001b[0m",
      "\u001b[1;31mNameError\u001b[0m                                 Traceback (most recent call last)",
      "\u001b[1;32m<ipython-input-58-086c78461b32>\u001b[0m in \u001b[0;36m<module>\u001b[1;34m()\u001b[0m\n\u001b[0;32m      5\u001b[0m \u001b[1;32mdel\u001b[0m \u001b[0mitems\u001b[0m\u001b[1;33m\u001b[0m\u001b[0m\n\u001b[0;32m      6\u001b[0m \u001b[1;32mdel\u001b[0m \u001b[0mshops\u001b[0m\u001b[1;33m\u001b[0m\u001b[0m\n\u001b[1;32m----> 7\u001b[1;33m \u001b[1;32mdel\u001b[0m \u001b[0mcats\u001b[0m\u001b[1;33m\u001b[0m\u001b[0m\n\u001b[0m\u001b[0;32m      8\u001b[0m \u001b[1;32mdel\u001b[0m \u001b[0mtrain\u001b[0m\u001b[1;33m\u001b[0m\u001b[0m\n\u001b[0;32m      9\u001b[0m \u001b[1;31m# leave test for submission\u001b[0m\u001b[1;33m\u001b[0m\u001b[1;33m\u001b[0m\u001b[0m\n",
      "\u001b[1;31mNameError\u001b[0m: name 'cats' is not defined"
     ]
    }
   ],
   "source": [
    "matrix.to_pickle('data.pkl')"
   ]
  },
  {
   "cell_type": "code",
   "execution_count": 59,
   "metadata": {},
   "outputs": [
    {
     "ename": "NameError",
     "evalue": "name 'matrix' is not defined",
     "output_type": "error",
     "traceback": [
      "\u001b[1;31m---------------------------------------------------------------------------\u001b[0m",
      "\u001b[1;31mNameError\u001b[0m                                 Traceback (most recent call last)",
      "\u001b[1;32m<ipython-input-59-2f5e3585e0c1>\u001b[0m in \u001b[0;36m<module>\u001b[1;34m()\u001b[0m\n\u001b[1;32m----> 1\u001b[1;33m \u001b[1;32mdel\u001b[0m \u001b[0mmatrix\u001b[0m\u001b[1;33m\u001b[0m\u001b[0m\n\u001b[0m\u001b[0;32m      2\u001b[0m \u001b[1;32mdel\u001b[0m \u001b[0mcache\u001b[0m\u001b[1;33m\u001b[0m\u001b[0m\n\u001b[0;32m      3\u001b[0m \u001b[1;32mdel\u001b[0m \u001b[0mgroup\u001b[0m\u001b[1;33m\u001b[0m\u001b[0m\n\u001b[0;32m      4\u001b[0m \u001b[1;32mdel\u001b[0m \u001b[0mitems\u001b[0m\u001b[1;33m\u001b[0m\u001b[0m\n\u001b[0;32m      5\u001b[0m \u001b[1;32mdel\u001b[0m \u001b[0mshops\u001b[0m\u001b[1;33m\u001b[0m\u001b[0m\n",
      "\u001b[1;31mNameError\u001b[0m: name 'matrix' is not defined"
     ]
    }
   ],
   "source": [
    "del matrix\n",
    "del cache\n",
    "del group\n",
    "del items\n",
    "del shops\n",
    "del categories\n",
    "del sales_train\n",
    "# leave test for submission\n",
    "gc.collect()"
   ]
  },
  {
   "cell_type": "markdown",
   "metadata": {},
   "source": [
    "# 3.xgb"
   ]
  },
  {
   "cell_type": "code",
   "execution_count": 3,
   "metadata": {},
   "outputs": [],
   "source": [
    "data = pd.read_pickle('data.pkl')"
   ]
  },
  {
   "cell_type": "code",
   "execution_count": 4,
   "metadata": {},
   "outputs": [],
   "source": [
    "# selecte features"
   ]
  },
  {
   "cell_type": "code",
   "execution_count": 5,
   "metadata": {},
   "outputs": [],
   "source": [
    "X_train = data[data.date_block_num < 33].drop(['item_cnt_month'], axis=1)\n",
    "Y_train = data[data.date_block_num < 33]['item_cnt_month']\n",
    "X_valid = data[data.date_block_num == 33].drop(['item_cnt_month'], axis=1)\n",
    "Y_valid = data[data.date_block_num == 33]['item_cnt_month']\n",
    "X_test = data[data.date_block_num == 34].drop(['item_cnt_month'], axis=1)"
   ]
  },
  {
   "cell_type": "code",
   "execution_count": 6,
   "metadata": {},
   "outputs": [],
   "source": [
    "del data\n",
    "gc.collect();\n"
   ]
  },
  {
   "cell_type": "code",
   "execution_count": 7,
   "metadata": {},
   "outputs": [
    {
     "name": "stderr",
     "output_type": "stream",
     "text": [
      "D:\\Anaconda3\\lib\\site-packages\\xgboost\\core.py:587: FutureWarning: Series.base is deprecated and will be removed in a future version\n",
      "  if getattr(data, 'base', None) is not None and \\\n",
      "D:\\Anaconda3\\lib\\site-packages\\xgboost\\core.py:588: FutureWarning: Series.base is deprecated and will be removed in a future version\n",
      "  data.base is not None and isinstance(data, np.ndarray) \\\n"
     ]
    },
    {
     "ename": "MemoryError",
     "evalue": "",
     "output_type": "error",
     "traceback": [
      "\u001b[1;31m---------------------------------------------------------------------------\u001b[0m",
      "\u001b[1;31mMemoryError\u001b[0m                               Traceback (most recent call last)",
      "\u001b[1;32m<ipython-input-7-08ec4d545542>\u001b[0m in \u001b[0;36m<module>\u001b[1;34m()\u001b[0m\n\u001b[0;32m     17\u001b[0m     \u001b[0meval_set\u001b[0m\u001b[1;33m=\u001b[0m\u001b[1;33m[\u001b[0m\u001b[1;33m(\u001b[0m\u001b[0mX_train\u001b[0m\u001b[1;33m,\u001b[0m \u001b[0mY_train\u001b[0m\u001b[1;33m)\u001b[0m\u001b[1;33m,\u001b[0m \u001b[1;33m(\u001b[0m\u001b[0mX_valid\u001b[0m\u001b[1;33m,\u001b[0m \u001b[0mY_valid\u001b[0m\u001b[1;33m)\u001b[0m\u001b[1;33m]\u001b[0m\u001b[1;33m,\u001b[0m\u001b[1;33m\u001b[0m\u001b[0m\n\u001b[0;32m     18\u001b[0m     \u001b[0mverbose\u001b[0m\u001b[1;33m=\u001b[0m\u001b[1;32mTrue\u001b[0m\u001b[1;33m,\u001b[0m\u001b[1;33m\u001b[0m\u001b[0m\n\u001b[1;32m---> 19\u001b[1;33m     early_stopping_rounds = 10)\n\u001b[0m\u001b[0;32m     20\u001b[0m \u001b[1;33m\u001b[0m\u001b[0m\n\u001b[0;32m     21\u001b[0m \u001b[0mtime\u001b[0m\u001b[1;33m.\u001b[0m\u001b[0mtime\u001b[0m\u001b[1;33m(\u001b[0m\u001b[1;33m)\u001b[0m \u001b[1;33m-\u001b[0m \u001b[0mts\u001b[0m\u001b[1;33m\u001b[0m\u001b[0m\n",
      "\u001b[1;32mD:\\Anaconda3\\lib\\site-packages\\xgboost\\sklearn.py\u001b[0m in \u001b[0;36mfit\u001b[1;34m(self, X, y, sample_weight, eval_set, eval_metric, early_stopping_rounds, verbose, xgb_model, sample_weight_eval_set, callbacks)\u001b[0m\n\u001b[0;32m    350\u001b[0m                 DMatrix(eval_set[i][0], label=eval_set[i][1], missing=self.missing,\n\u001b[0;32m    351\u001b[0m                         weight=sample_weight_eval_set[i], nthread=self.n_jobs)\n\u001b[1;32m--> 352\u001b[1;33m                 for i in range(len(eval_set)))\n\u001b[0m\u001b[0;32m    353\u001b[0m             evals = list(zip(evals, [\"validation_{}\".format(i) for i in\n\u001b[0;32m    354\u001b[0m                                      range(len(evals))]))\n",
      "\u001b[1;32mD:\\Anaconda3\\lib\\site-packages\\xgboost\\sklearn.py\u001b[0m in \u001b[0;36m<genexpr>\u001b[1;34m(.0)\u001b[0m\n\u001b[0;32m    350\u001b[0m                 DMatrix(eval_set[i][0], label=eval_set[i][1], missing=self.missing,\n\u001b[0;32m    351\u001b[0m                         weight=sample_weight_eval_set[i], nthread=self.n_jobs)\n\u001b[1;32m--> 352\u001b[1;33m                 for i in range(len(eval_set)))\n\u001b[0m\u001b[0;32m    353\u001b[0m             evals = list(zip(evals, [\"validation_{}\".format(i) for i in\n\u001b[0;32m    354\u001b[0m                                      range(len(evals))]))\n",
      "\u001b[1;32mD:\\Anaconda3\\lib\\site-packages\\xgboost\\core.py\u001b[0m in \u001b[0;36m__init__\u001b[1;34m(self, data, label, missing, weight, silent, feature_names, feature_types, nthread)\u001b[0m\n\u001b[0;32m    405\u001b[0m             \u001b[0mself\u001b[0m\u001b[1;33m.\u001b[0m\u001b[0m_init_from_csc\u001b[0m\u001b[1;33m(\u001b[0m\u001b[0mdata\u001b[0m\u001b[1;33m)\u001b[0m\u001b[1;33m\u001b[0m\u001b[0m\n\u001b[0;32m    406\u001b[0m         \u001b[1;32melif\u001b[0m \u001b[0misinstance\u001b[0m\u001b[1;33m(\u001b[0m\u001b[0mdata\u001b[0m\u001b[1;33m,\u001b[0m \u001b[0mnp\u001b[0m\u001b[1;33m.\u001b[0m\u001b[0mndarray\u001b[0m\u001b[1;33m)\u001b[0m\u001b[1;33m:\u001b[0m\u001b[1;33m\u001b[0m\u001b[0m\n\u001b[1;32m--> 407\u001b[1;33m             \u001b[0mself\u001b[0m\u001b[1;33m.\u001b[0m\u001b[0m_init_from_npy2d\u001b[0m\u001b[1;33m(\u001b[0m\u001b[0mdata\u001b[0m\u001b[1;33m,\u001b[0m \u001b[0mmissing\u001b[0m\u001b[1;33m,\u001b[0m \u001b[0mnthread\u001b[0m\u001b[1;33m)\u001b[0m\u001b[1;33m\u001b[0m\u001b[0m\n\u001b[0m\u001b[0;32m    408\u001b[0m         \u001b[1;32melif\u001b[0m \u001b[0misinstance\u001b[0m\u001b[1;33m(\u001b[0m\u001b[0mdata\u001b[0m\u001b[1;33m,\u001b[0m \u001b[0mDataTable\u001b[0m\u001b[1;33m)\u001b[0m\u001b[1;33m:\u001b[0m\u001b[1;33m\u001b[0m\u001b[0m\n\u001b[0;32m    409\u001b[0m             \u001b[0mself\u001b[0m\u001b[1;33m.\u001b[0m\u001b[0m_init_from_dt\u001b[0m\u001b[1;33m(\u001b[0m\u001b[0mdata\u001b[0m\u001b[1;33m,\u001b[0m \u001b[0mnthread\u001b[0m\u001b[1;33m)\u001b[0m\u001b[1;33m\u001b[0m\u001b[0m\n",
      "\u001b[1;32mD:\\Anaconda3\\lib\\site-packages\\xgboost\\core.py\u001b[0m in \u001b[0;36m_init_from_npy2d\u001b[1;34m(self, mat, missing, nthread)\u001b[0m\n\u001b[0;32m    477\u001b[0m         \u001b[1;31m# we try to avoid data copies if possible (reshape returns a view when possible\u001b[0m\u001b[1;33m\u001b[0m\u001b[1;33m\u001b[0m\u001b[0m\n\u001b[0;32m    478\u001b[0m         \u001b[1;31m# and we explicitly tell np.array to try and avoid copying)\u001b[0m\u001b[1;33m\u001b[0m\u001b[1;33m\u001b[0m\u001b[0m\n\u001b[1;32m--> 479\u001b[1;33m         \u001b[0mdata\u001b[0m \u001b[1;33m=\u001b[0m \u001b[0mnp\u001b[0m\u001b[1;33m.\u001b[0m\u001b[0marray\u001b[0m\u001b[1;33m(\u001b[0m\u001b[0mmat\u001b[0m\u001b[1;33m.\u001b[0m\u001b[0mreshape\u001b[0m\u001b[1;33m(\u001b[0m\u001b[0mmat\u001b[0m\u001b[1;33m.\u001b[0m\u001b[0msize\u001b[0m\u001b[1;33m)\u001b[0m\u001b[1;33m,\u001b[0m \u001b[0mcopy\u001b[0m\u001b[1;33m=\u001b[0m\u001b[1;32mFalse\u001b[0m\u001b[1;33m,\u001b[0m \u001b[0mdtype\u001b[0m\u001b[1;33m=\u001b[0m\u001b[0mnp\u001b[0m\u001b[1;33m.\u001b[0m\u001b[0mfloat32\u001b[0m\u001b[1;33m)\u001b[0m\u001b[1;33m\u001b[0m\u001b[0m\n\u001b[0m\u001b[0;32m    480\u001b[0m         \u001b[0mself\u001b[0m\u001b[1;33m.\u001b[0m\u001b[0mhandle\u001b[0m \u001b[1;33m=\u001b[0m \u001b[0mctypes\u001b[0m\u001b[1;33m.\u001b[0m\u001b[0mc_void_p\u001b[0m\u001b[1;33m(\u001b[0m\u001b[1;33m)\u001b[0m\u001b[1;33m\u001b[0m\u001b[0m\n\u001b[0;32m    481\u001b[0m         \u001b[0mmissing\u001b[0m \u001b[1;33m=\u001b[0m \u001b[0mmissing\u001b[0m \u001b[1;32mif\u001b[0m \u001b[0mmissing\u001b[0m \u001b[1;32mis\u001b[0m \u001b[1;32mnot\u001b[0m \u001b[1;32mNone\u001b[0m \u001b[1;32melse\u001b[0m \u001b[0mnp\u001b[0m\u001b[1;33m.\u001b[0m\u001b[0mnan\u001b[0m\u001b[1;33m\u001b[0m\u001b[0m\n",
      "\u001b[1;31mMemoryError\u001b[0m: "
     ]
    }
   ],
   "source": [
    "ts = time.time()\n",
    "from xgboost import XGBRegressor\n",
    "from xgboost import plot_importance\n",
    "model = XGBRegressor(\n",
    "    max_depth=8,\n",
    "    n_estimators=1000,\n",
    "    min_child_weight=300, \n",
    "    colsample_bytree=0.8, \n",
    "    subsample=0.8, \n",
    "    eta=0.3,    \n",
    "    seed=42)\n",
    "\n",
    "model.fit(\n",
    "    X_train, \n",
    "    Y_train, \n",
    "    eval_metric=\"rmse\", \n",
    "    eval_set=[(X_train, Y_train), (X_valid, Y_valid)], \n",
    "    verbose=True, \n",
    "    early_stopping_rounds = 10)\n",
    "\n",
    "time.time() - ts"
   ]
  },
  {
   "cell_type": "code",
   "execution_count": null,
   "metadata": {},
   "outputs": [],
   "source": [
    "Y_pred = model.predict(X_valid).clip(0, 20)\n",
    "Y_test = model.predict(X_test).clip(0, 20)\n",
    "\n",
    "submission = pd.DataFrame({\n",
    "    \"ID\": test.index, \n",
    "    \"item_cnt_month\": Y_test\n",
    "})\n",
    "submission.to_csv('xgb_submission.csv', index=False)\n",
    "\n",
    "# save predictions for an ensemble\n",
    "pickle.dump(Y_pred, open('xgb_train.pickle', 'wb'))\n",
    "pickle.dump(Y_test, open('xgb_test.pickle', 'wb'))"
   ]
  },
  {
   "cell_type": "code",
   "execution_count": null,
   "metadata": {},
   "outputs": [],
   "source": [
    "plot_features(model, (10,14))"
   ]
  }
 ],
 "metadata": {
  "kernelspec": {
   "display_name": "Python 3",
   "language": "python",
   "name": "python3"
  },
  "language_info": {
   "codemirror_mode": {
    "name": "ipython",
    "version": 3
   },
   "file_extension": ".py",
   "mimetype": "text/x-python",
   "name": "python",
   "nbconvert_exporter": "python",
   "pygments_lexer": "ipython3",
   "version": "3.6.5"
  }
 },
 "nbformat": 4,
 "nbformat_minor": 2
}
